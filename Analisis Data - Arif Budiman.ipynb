{
 "cells": [
  {
   "cell_type": "markdown",
   "id": "93ef93c0",
   "metadata": {},
   "source": [
    "# Proyek Analisis Data : Bike Sharing"
   ]
  },
  {
   "cell_type": "markdown",
   "id": "6b5838b3",
   "metadata": {},
   "source": [
    "Nama: Arif Budiman\\\n",
    "Email: arifbudiman2506@gmail.com\\\n",
    "ID Dicoding: arbud25"
   ]
  },
  {
   "cell_type": "markdown",
   "id": "a6baf715",
   "metadata": {},
   "source": [
    "# Menentukan Pertanyaan Bisnis"
   ]
  },
  {
   "cell_type": "markdown",
   "id": "4c688160",
   "metadata": {},
   "source": [
    "1.Bagaimana Penggunaan Bike Sharing Berdasarkan Musim (Season) pada Penggunaan per-hari (Day) dan penggunaan per-jam (Hour)?\\\n",
    "2.Bagaimana Penggunaan Bike Sharing Berdasarkan Cuaca (Weathersit) pada Penggunaan per-hari (Day) dan per-jam (Hour)?\\\n",
    "3.Bagaimana Segmentasi Penggunaan Bike Sharing Berdasarkan status pengguna (Casual dan Registered) pada Penggunaan per-hari (Day) dan per-jam (Hour)?\\\n",
    "4.Bagaimana Tren Penggunaan Bike Sharing Berdasarkan Bulan dan Hari Apa Saja Untuk Penggunaan Day dan Pada Jam Berapa Saja Penggunaan Paling Banyak pada penggunaan per-jam (Hour)?\n"
   ]
  },
  {
   "cell_type": "markdown",
   "id": "aff13d39",
   "metadata": {},
   "source": [
    "# Menyiapkan Semua Library Yang Dibutuhkan"
   ]
  },
  {
   "cell_type": "code",
   "execution_count": 1,
   "id": "90784766",
   "metadata": {},
   "outputs": [
    {
     "name": "stderr",
     "output_type": "stream",
     "text": [
      "C:\\Users\\Arbud\\anaconda3\\lib\\site-packages\\scipy\\__init__.py:155: UserWarning: A NumPy version >=1.18.5 and <1.25.0 is required for this version of SciPy (detected version 1.26.1\n",
      "  warnings.warn(f\"A NumPy version >={np_minversion} and <{np_maxversion}\"\n"
     ]
    }
   ],
   "source": [
    "import numpy as np\n",
    "import pandas as pd\n",
    "import matplotlib.pyplot as plt\n",
    "import seaborn as sns\n",
    "import scipy"
   ]
  },
  {
   "cell_type": "markdown",
   "id": "800a6b33",
   "metadata": {},
   "source": [
    "# Data Wrangling"
   ]
  },
  {
   "cell_type": "markdown",
   "id": "32bf3670",
   "metadata": {},
   "source": [
    "## Gathering Data"
   ]
  },
  {
   "cell_type": "markdown",
   "id": "fd2ef894",
   "metadata": {},
   "source": [
    "### Memuat Tabel Day"
   ]
  },
  {
   "cell_type": "code",
   "execution_count": 2,
   "id": "508abb7f",
   "metadata": {},
   "outputs": [
    {
     "data": {
      "text/html": [
       "<div>\n",
       "<style scoped>\n",
       "    .dataframe tbody tr th:only-of-type {\n",
       "        vertical-align: middle;\n",
       "    }\n",
       "\n",
       "    .dataframe tbody tr th {\n",
       "        vertical-align: top;\n",
       "    }\n",
       "\n",
       "    .dataframe thead th {\n",
       "        text-align: right;\n",
       "    }\n",
       "</style>\n",
       "<table border=\"1\" class=\"dataframe\">\n",
       "  <thead>\n",
       "    <tr style=\"text-align: right;\">\n",
       "      <th></th>\n",
       "      <th>instant</th>\n",
       "      <th>dteday</th>\n",
       "      <th>season</th>\n",
       "      <th>yr</th>\n",
       "      <th>mnth</th>\n",
       "      <th>holiday</th>\n",
       "      <th>weekday</th>\n",
       "      <th>workingday</th>\n",
       "      <th>weathersit</th>\n",
       "      <th>temp</th>\n",
       "      <th>atemp</th>\n",
       "      <th>hum</th>\n",
       "      <th>windspeed</th>\n",
       "      <th>casual</th>\n",
       "      <th>registered</th>\n",
       "      <th>cnt</th>\n",
       "    </tr>\n",
       "  </thead>\n",
       "  <tbody>\n",
       "    <tr>\n",
       "      <th>0</th>\n",
       "      <td>1</td>\n",
       "      <td>2011-01-01</td>\n",
       "      <td>1</td>\n",
       "      <td>0</td>\n",
       "      <td>1</td>\n",
       "      <td>0</td>\n",
       "      <td>6</td>\n",
       "      <td>0</td>\n",
       "      <td>2</td>\n",
       "      <td>0.344167</td>\n",
       "      <td>0.363625</td>\n",
       "      <td>0.805833</td>\n",
       "      <td>0.160446</td>\n",
       "      <td>331</td>\n",
       "      <td>654</td>\n",
       "      <td>985</td>\n",
       "    </tr>\n",
       "    <tr>\n",
       "      <th>1</th>\n",
       "      <td>2</td>\n",
       "      <td>2011-01-02</td>\n",
       "      <td>1</td>\n",
       "      <td>0</td>\n",
       "      <td>1</td>\n",
       "      <td>0</td>\n",
       "      <td>0</td>\n",
       "      <td>0</td>\n",
       "      <td>2</td>\n",
       "      <td>0.363478</td>\n",
       "      <td>0.353739</td>\n",
       "      <td>0.696087</td>\n",
       "      <td>0.248539</td>\n",
       "      <td>131</td>\n",
       "      <td>670</td>\n",
       "      <td>801</td>\n",
       "    </tr>\n",
       "    <tr>\n",
       "      <th>2</th>\n",
       "      <td>3</td>\n",
       "      <td>2011-01-03</td>\n",
       "      <td>1</td>\n",
       "      <td>0</td>\n",
       "      <td>1</td>\n",
       "      <td>0</td>\n",
       "      <td>1</td>\n",
       "      <td>1</td>\n",
       "      <td>1</td>\n",
       "      <td>0.196364</td>\n",
       "      <td>0.189405</td>\n",
       "      <td>0.437273</td>\n",
       "      <td>0.248309</td>\n",
       "      <td>120</td>\n",
       "      <td>1229</td>\n",
       "      <td>1349</td>\n",
       "    </tr>\n",
       "    <tr>\n",
       "      <th>3</th>\n",
       "      <td>4</td>\n",
       "      <td>2011-01-04</td>\n",
       "      <td>1</td>\n",
       "      <td>0</td>\n",
       "      <td>1</td>\n",
       "      <td>0</td>\n",
       "      <td>2</td>\n",
       "      <td>1</td>\n",
       "      <td>1</td>\n",
       "      <td>0.200000</td>\n",
       "      <td>0.212122</td>\n",
       "      <td>0.590435</td>\n",
       "      <td>0.160296</td>\n",
       "      <td>108</td>\n",
       "      <td>1454</td>\n",
       "      <td>1562</td>\n",
       "    </tr>\n",
       "    <tr>\n",
       "      <th>4</th>\n",
       "      <td>5</td>\n",
       "      <td>2011-01-05</td>\n",
       "      <td>1</td>\n",
       "      <td>0</td>\n",
       "      <td>1</td>\n",
       "      <td>0</td>\n",
       "      <td>3</td>\n",
       "      <td>1</td>\n",
       "      <td>1</td>\n",
       "      <td>0.226957</td>\n",
       "      <td>0.229270</td>\n",
       "      <td>0.436957</td>\n",
       "      <td>0.186900</td>\n",
       "      <td>82</td>\n",
       "      <td>1518</td>\n",
       "      <td>1600</td>\n",
       "    </tr>\n",
       "  </tbody>\n",
       "</table>\n",
       "</div>"
      ],
      "text/plain": [
       "   instant      dteday  season  yr  mnth  holiday  weekday  workingday  \\\n",
       "0        1  2011-01-01       1   0     1        0        6           0   \n",
       "1        2  2011-01-02       1   0     1        0        0           0   \n",
       "2        3  2011-01-03       1   0     1        0        1           1   \n",
       "3        4  2011-01-04       1   0     1        0        2           1   \n",
       "4        5  2011-01-05       1   0     1        0        3           1   \n",
       "\n",
       "   weathersit      temp     atemp       hum  windspeed  casual  registered  \\\n",
       "0           2  0.344167  0.363625  0.805833   0.160446     331         654   \n",
       "1           2  0.363478  0.353739  0.696087   0.248539     131         670   \n",
       "2           1  0.196364  0.189405  0.437273   0.248309     120        1229   \n",
       "3           1  0.200000  0.212122  0.590435   0.160296     108        1454   \n",
       "4           1  0.226957  0.229270  0.436957   0.186900      82        1518   \n",
       "\n",
       "    cnt  \n",
       "0   985  \n",
       "1   801  \n",
       "2  1349  \n",
       "3  1562  \n",
       "4  1600  "
      ]
     },
     "execution_count": 2,
     "metadata": {},
     "output_type": "execute_result"
    }
   ],
   "source": [
    "tabelday = r'C:\\Users\\Arbud\\Downloads\\Proyek Data Analisis\\Data\\day.csv'\n",
    "day_df = pd.read_csv(tabelday)\n",
    "day_df.head()"
   ]
  },
  {
   "cell_type": "markdown",
   "id": "dbcf2740",
   "metadata": {},
   "source": [
    "### Memuat Tabel Hour"
   ]
  },
  {
   "cell_type": "code",
   "execution_count": 3,
   "id": "2188ebe0",
   "metadata": {},
   "outputs": [
    {
     "data": {
      "text/html": [
       "<div>\n",
       "<style scoped>\n",
       "    .dataframe tbody tr th:only-of-type {\n",
       "        vertical-align: middle;\n",
       "    }\n",
       "\n",
       "    .dataframe tbody tr th {\n",
       "        vertical-align: top;\n",
       "    }\n",
       "\n",
       "    .dataframe thead th {\n",
       "        text-align: right;\n",
       "    }\n",
       "</style>\n",
       "<table border=\"1\" class=\"dataframe\">\n",
       "  <thead>\n",
       "    <tr style=\"text-align: right;\">\n",
       "      <th></th>\n",
       "      <th>instant</th>\n",
       "      <th>dteday</th>\n",
       "      <th>season</th>\n",
       "      <th>yr</th>\n",
       "      <th>mnth</th>\n",
       "      <th>hr</th>\n",
       "      <th>holiday</th>\n",
       "      <th>weekday</th>\n",
       "      <th>workingday</th>\n",
       "      <th>weathersit</th>\n",
       "      <th>temp</th>\n",
       "      <th>atemp</th>\n",
       "      <th>hum</th>\n",
       "      <th>windspeed</th>\n",
       "      <th>casual</th>\n",
       "      <th>registered</th>\n",
       "      <th>cnt</th>\n",
       "    </tr>\n",
       "  </thead>\n",
       "  <tbody>\n",
       "    <tr>\n",
       "      <th>0</th>\n",
       "      <td>1</td>\n",
       "      <td>2011-01-01</td>\n",
       "      <td>1</td>\n",
       "      <td>0</td>\n",
       "      <td>1</td>\n",
       "      <td>0</td>\n",
       "      <td>0</td>\n",
       "      <td>6</td>\n",
       "      <td>0</td>\n",
       "      <td>1</td>\n",
       "      <td>0.24</td>\n",
       "      <td>0.2879</td>\n",
       "      <td>0.81</td>\n",
       "      <td>0.0</td>\n",
       "      <td>3</td>\n",
       "      <td>13</td>\n",
       "      <td>16</td>\n",
       "    </tr>\n",
       "    <tr>\n",
       "      <th>1</th>\n",
       "      <td>2</td>\n",
       "      <td>2011-01-01</td>\n",
       "      <td>1</td>\n",
       "      <td>0</td>\n",
       "      <td>1</td>\n",
       "      <td>1</td>\n",
       "      <td>0</td>\n",
       "      <td>6</td>\n",
       "      <td>0</td>\n",
       "      <td>1</td>\n",
       "      <td>0.22</td>\n",
       "      <td>0.2727</td>\n",
       "      <td>0.80</td>\n",
       "      <td>0.0</td>\n",
       "      <td>8</td>\n",
       "      <td>32</td>\n",
       "      <td>40</td>\n",
       "    </tr>\n",
       "    <tr>\n",
       "      <th>2</th>\n",
       "      <td>3</td>\n",
       "      <td>2011-01-01</td>\n",
       "      <td>1</td>\n",
       "      <td>0</td>\n",
       "      <td>1</td>\n",
       "      <td>2</td>\n",
       "      <td>0</td>\n",
       "      <td>6</td>\n",
       "      <td>0</td>\n",
       "      <td>1</td>\n",
       "      <td>0.22</td>\n",
       "      <td>0.2727</td>\n",
       "      <td>0.80</td>\n",
       "      <td>0.0</td>\n",
       "      <td>5</td>\n",
       "      <td>27</td>\n",
       "      <td>32</td>\n",
       "    </tr>\n",
       "    <tr>\n",
       "      <th>3</th>\n",
       "      <td>4</td>\n",
       "      <td>2011-01-01</td>\n",
       "      <td>1</td>\n",
       "      <td>0</td>\n",
       "      <td>1</td>\n",
       "      <td>3</td>\n",
       "      <td>0</td>\n",
       "      <td>6</td>\n",
       "      <td>0</td>\n",
       "      <td>1</td>\n",
       "      <td>0.24</td>\n",
       "      <td>0.2879</td>\n",
       "      <td>0.75</td>\n",
       "      <td>0.0</td>\n",
       "      <td>3</td>\n",
       "      <td>10</td>\n",
       "      <td>13</td>\n",
       "    </tr>\n",
       "    <tr>\n",
       "      <th>4</th>\n",
       "      <td>5</td>\n",
       "      <td>2011-01-01</td>\n",
       "      <td>1</td>\n",
       "      <td>0</td>\n",
       "      <td>1</td>\n",
       "      <td>4</td>\n",
       "      <td>0</td>\n",
       "      <td>6</td>\n",
       "      <td>0</td>\n",
       "      <td>1</td>\n",
       "      <td>0.24</td>\n",
       "      <td>0.2879</td>\n",
       "      <td>0.75</td>\n",
       "      <td>0.0</td>\n",
       "      <td>0</td>\n",
       "      <td>1</td>\n",
       "      <td>1</td>\n",
       "    </tr>\n",
       "  </tbody>\n",
       "</table>\n",
       "</div>"
      ],
      "text/plain": [
       "   instant      dteday  season  yr  mnth  hr  holiday  weekday  workingday  \\\n",
       "0        1  2011-01-01       1   0     1   0        0        6           0   \n",
       "1        2  2011-01-01       1   0     1   1        0        6           0   \n",
       "2        3  2011-01-01       1   0     1   2        0        6           0   \n",
       "3        4  2011-01-01       1   0     1   3        0        6           0   \n",
       "4        5  2011-01-01       1   0     1   4        0        6           0   \n",
       "\n",
       "   weathersit  temp   atemp   hum  windspeed  casual  registered  cnt  \n",
       "0           1  0.24  0.2879  0.81        0.0       3          13   16  \n",
       "1           1  0.22  0.2727  0.80        0.0       8          32   40  \n",
       "2           1  0.22  0.2727  0.80        0.0       5          27   32  \n",
       "3           1  0.24  0.2879  0.75        0.0       3          10   13  \n",
       "4           1  0.24  0.2879  0.75        0.0       0           1    1  "
      ]
     },
     "execution_count": 3,
     "metadata": {},
     "output_type": "execute_result"
    }
   ],
   "source": [
    "tabelhour = r'C:\\Users\\Arbud\\Downloads\\Proyek Data Analisis\\Data\\hour.csv'\n",
    "hour_df = pd.read_csv(tabelhour)\n",
    "hour_df.head()"
   ]
  },
  {
   "cell_type": "markdown",
   "id": "0dae65b1",
   "metadata": {},
   "source": [
    "## Assesing Data "
   ]
  },
  {
   "cell_type": "markdown",
   "id": "78f0690d",
   "metadata": {},
   "source": [
    "### Day_df"
   ]
  },
  {
   "cell_type": "markdown",
   "id": "6d195b52",
   "metadata": {},
   "source": [
    "Menilai Data Day"
   ]
  },
  {
   "cell_type": "code",
   "execution_count": 4,
   "id": "4464974a",
   "metadata": {},
   "outputs": [
    {
     "name": "stdout",
     "output_type": "stream",
     "text": [
      "<class 'pandas.core.frame.DataFrame'>\n",
      "RangeIndex: 731 entries, 0 to 730\n",
      "Data columns (total 16 columns):\n",
      " #   Column      Non-Null Count  Dtype  \n",
      "---  ------      --------------  -----  \n",
      " 0   instant     731 non-null    int64  \n",
      " 1   dteday      731 non-null    object \n",
      " 2   season      731 non-null    int64  \n",
      " 3   yr          731 non-null    int64  \n",
      " 4   mnth        731 non-null    int64  \n",
      " 5   holiday     731 non-null    int64  \n",
      " 6   weekday     731 non-null    int64  \n",
      " 7   workingday  731 non-null    int64  \n",
      " 8   weathersit  731 non-null    int64  \n",
      " 9   temp        731 non-null    float64\n",
      " 10  atemp       731 non-null    float64\n",
      " 11  hum         731 non-null    float64\n",
      " 12  windspeed   731 non-null    float64\n",
      " 13  casual      731 non-null    int64  \n",
      " 14  registered  731 non-null    int64  \n",
      " 15  cnt         731 non-null    int64  \n",
      "dtypes: float64(4), int64(11), object(1)\n",
      "memory usage: 91.5+ KB\n"
     ]
    }
   ],
   "source": [
    "day_df.info()"
   ]
  },
  {
   "cell_type": "markdown",
   "id": "c6ff9fd1",
   "metadata": {},
   "source": [
    "Mengecek Missing Value"
   ]
  },
  {
   "cell_type": "code",
   "execution_count": 5,
   "id": "cb32cd39",
   "metadata": {},
   "outputs": [
    {
     "data": {
      "text/plain": [
       "instant       0\n",
       "dteday        0\n",
       "season        0\n",
       "yr            0\n",
       "mnth          0\n",
       "holiday       0\n",
       "weekday       0\n",
       "workingday    0\n",
       "weathersit    0\n",
       "temp          0\n",
       "atemp         0\n",
       "hum           0\n",
       "windspeed     0\n",
       "casual        0\n",
       "registered    0\n",
       "cnt           0\n",
       "dtype: int64"
      ]
     },
     "execution_count": 5,
     "metadata": {},
     "output_type": "execute_result"
    }
   ],
   "source": [
    "day_df.isna().sum()"
   ]
  },
  {
   "cell_type": "markdown",
   "id": "c3fb1c19",
   "metadata": {},
   "source": [
    "Periksa Duplikasi Data dan Cek Parameter Statistiknya"
   ]
  },
  {
   "cell_type": "code",
   "execution_count": 6,
   "id": "dff2d686",
   "metadata": {},
   "outputs": [
    {
     "name": "stdout",
     "output_type": "stream",
     "text": [
      "Jumlah Duplikasi:  0\n"
     ]
    },
    {
     "data": {
      "text/html": [
       "<div>\n",
       "<style scoped>\n",
       "    .dataframe tbody tr th:only-of-type {\n",
       "        vertical-align: middle;\n",
       "    }\n",
       "\n",
       "    .dataframe tbody tr th {\n",
       "        vertical-align: top;\n",
       "    }\n",
       "\n",
       "    .dataframe thead th {\n",
       "        text-align: right;\n",
       "    }\n",
       "</style>\n",
       "<table border=\"1\" class=\"dataframe\">\n",
       "  <thead>\n",
       "    <tr style=\"text-align: right;\">\n",
       "      <th></th>\n",
       "      <th>instant</th>\n",
       "      <th>season</th>\n",
       "      <th>yr</th>\n",
       "      <th>mnth</th>\n",
       "      <th>holiday</th>\n",
       "      <th>weekday</th>\n",
       "      <th>workingday</th>\n",
       "      <th>weathersit</th>\n",
       "      <th>temp</th>\n",
       "      <th>atemp</th>\n",
       "      <th>hum</th>\n",
       "      <th>windspeed</th>\n",
       "      <th>casual</th>\n",
       "      <th>registered</th>\n",
       "      <th>cnt</th>\n",
       "    </tr>\n",
       "  </thead>\n",
       "  <tbody>\n",
       "    <tr>\n",
       "      <th>count</th>\n",
       "      <td>731.000000</td>\n",
       "      <td>731.000000</td>\n",
       "      <td>731.000000</td>\n",
       "      <td>731.000000</td>\n",
       "      <td>731.000000</td>\n",
       "      <td>731.000000</td>\n",
       "      <td>731.000000</td>\n",
       "      <td>731.000000</td>\n",
       "      <td>731.000000</td>\n",
       "      <td>731.000000</td>\n",
       "      <td>731.000000</td>\n",
       "      <td>731.000000</td>\n",
       "      <td>731.000000</td>\n",
       "      <td>731.000000</td>\n",
       "      <td>731.000000</td>\n",
       "    </tr>\n",
       "    <tr>\n",
       "      <th>mean</th>\n",
       "      <td>366.000000</td>\n",
       "      <td>2.496580</td>\n",
       "      <td>0.500684</td>\n",
       "      <td>6.519836</td>\n",
       "      <td>0.028728</td>\n",
       "      <td>2.997264</td>\n",
       "      <td>0.683995</td>\n",
       "      <td>1.395349</td>\n",
       "      <td>0.495385</td>\n",
       "      <td>0.474354</td>\n",
       "      <td>0.627894</td>\n",
       "      <td>0.190486</td>\n",
       "      <td>848.176471</td>\n",
       "      <td>3656.172367</td>\n",
       "      <td>4504.348837</td>\n",
       "    </tr>\n",
       "    <tr>\n",
       "      <th>std</th>\n",
       "      <td>211.165812</td>\n",
       "      <td>1.110807</td>\n",
       "      <td>0.500342</td>\n",
       "      <td>3.451913</td>\n",
       "      <td>0.167155</td>\n",
       "      <td>2.004787</td>\n",
       "      <td>0.465233</td>\n",
       "      <td>0.544894</td>\n",
       "      <td>0.183051</td>\n",
       "      <td>0.162961</td>\n",
       "      <td>0.142429</td>\n",
       "      <td>0.077498</td>\n",
       "      <td>686.622488</td>\n",
       "      <td>1560.256377</td>\n",
       "      <td>1937.211452</td>\n",
       "    </tr>\n",
       "    <tr>\n",
       "      <th>min</th>\n",
       "      <td>1.000000</td>\n",
       "      <td>1.000000</td>\n",
       "      <td>0.000000</td>\n",
       "      <td>1.000000</td>\n",
       "      <td>0.000000</td>\n",
       "      <td>0.000000</td>\n",
       "      <td>0.000000</td>\n",
       "      <td>1.000000</td>\n",
       "      <td>0.059130</td>\n",
       "      <td>0.079070</td>\n",
       "      <td>0.000000</td>\n",
       "      <td>0.022392</td>\n",
       "      <td>2.000000</td>\n",
       "      <td>20.000000</td>\n",
       "      <td>22.000000</td>\n",
       "    </tr>\n",
       "    <tr>\n",
       "      <th>25%</th>\n",
       "      <td>183.500000</td>\n",
       "      <td>2.000000</td>\n",
       "      <td>0.000000</td>\n",
       "      <td>4.000000</td>\n",
       "      <td>0.000000</td>\n",
       "      <td>1.000000</td>\n",
       "      <td>0.000000</td>\n",
       "      <td>1.000000</td>\n",
       "      <td>0.337083</td>\n",
       "      <td>0.337842</td>\n",
       "      <td>0.520000</td>\n",
       "      <td>0.134950</td>\n",
       "      <td>315.500000</td>\n",
       "      <td>2497.000000</td>\n",
       "      <td>3152.000000</td>\n",
       "    </tr>\n",
       "    <tr>\n",
       "      <th>50%</th>\n",
       "      <td>366.000000</td>\n",
       "      <td>3.000000</td>\n",
       "      <td>1.000000</td>\n",
       "      <td>7.000000</td>\n",
       "      <td>0.000000</td>\n",
       "      <td>3.000000</td>\n",
       "      <td>1.000000</td>\n",
       "      <td>1.000000</td>\n",
       "      <td>0.498333</td>\n",
       "      <td>0.486733</td>\n",
       "      <td>0.626667</td>\n",
       "      <td>0.180975</td>\n",
       "      <td>713.000000</td>\n",
       "      <td>3662.000000</td>\n",
       "      <td>4548.000000</td>\n",
       "    </tr>\n",
       "    <tr>\n",
       "      <th>75%</th>\n",
       "      <td>548.500000</td>\n",
       "      <td>3.000000</td>\n",
       "      <td>1.000000</td>\n",
       "      <td>10.000000</td>\n",
       "      <td>0.000000</td>\n",
       "      <td>5.000000</td>\n",
       "      <td>1.000000</td>\n",
       "      <td>2.000000</td>\n",
       "      <td>0.655417</td>\n",
       "      <td>0.608602</td>\n",
       "      <td>0.730209</td>\n",
       "      <td>0.233214</td>\n",
       "      <td>1096.000000</td>\n",
       "      <td>4776.500000</td>\n",
       "      <td>5956.000000</td>\n",
       "    </tr>\n",
       "    <tr>\n",
       "      <th>max</th>\n",
       "      <td>731.000000</td>\n",
       "      <td>4.000000</td>\n",
       "      <td>1.000000</td>\n",
       "      <td>12.000000</td>\n",
       "      <td>1.000000</td>\n",
       "      <td>6.000000</td>\n",
       "      <td>1.000000</td>\n",
       "      <td>3.000000</td>\n",
       "      <td>0.861667</td>\n",
       "      <td>0.840896</td>\n",
       "      <td>0.972500</td>\n",
       "      <td>0.507463</td>\n",
       "      <td>3410.000000</td>\n",
       "      <td>6946.000000</td>\n",
       "      <td>8714.000000</td>\n",
       "    </tr>\n",
       "  </tbody>\n",
       "</table>\n",
       "</div>"
      ],
      "text/plain": [
       "          instant      season          yr        mnth     holiday     weekday  \\\n",
       "count  731.000000  731.000000  731.000000  731.000000  731.000000  731.000000   \n",
       "mean   366.000000    2.496580    0.500684    6.519836    0.028728    2.997264   \n",
       "std    211.165812    1.110807    0.500342    3.451913    0.167155    2.004787   \n",
       "min      1.000000    1.000000    0.000000    1.000000    0.000000    0.000000   \n",
       "25%    183.500000    2.000000    0.000000    4.000000    0.000000    1.000000   \n",
       "50%    366.000000    3.000000    1.000000    7.000000    0.000000    3.000000   \n",
       "75%    548.500000    3.000000    1.000000   10.000000    0.000000    5.000000   \n",
       "max    731.000000    4.000000    1.000000   12.000000    1.000000    6.000000   \n",
       "\n",
       "       workingday  weathersit        temp       atemp         hum   windspeed  \\\n",
       "count  731.000000  731.000000  731.000000  731.000000  731.000000  731.000000   \n",
       "mean     0.683995    1.395349    0.495385    0.474354    0.627894    0.190486   \n",
       "std      0.465233    0.544894    0.183051    0.162961    0.142429    0.077498   \n",
       "min      0.000000    1.000000    0.059130    0.079070    0.000000    0.022392   \n",
       "25%      0.000000    1.000000    0.337083    0.337842    0.520000    0.134950   \n",
       "50%      1.000000    1.000000    0.498333    0.486733    0.626667    0.180975   \n",
       "75%      1.000000    2.000000    0.655417    0.608602    0.730209    0.233214   \n",
       "max      1.000000    3.000000    0.861667    0.840896    0.972500    0.507463   \n",
       "\n",
       "            casual   registered          cnt  \n",
       "count   731.000000   731.000000   731.000000  \n",
       "mean    848.176471  3656.172367  4504.348837  \n",
       "std     686.622488  1560.256377  1937.211452  \n",
       "min       2.000000    20.000000    22.000000  \n",
       "25%     315.500000  2497.000000  3152.000000  \n",
       "50%     713.000000  3662.000000  4548.000000  \n",
       "75%    1096.000000  4776.500000  5956.000000  \n",
       "max    3410.000000  6946.000000  8714.000000  "
      ]
     },
     "execution_count": 6,
     "metadata": {},
     "output_type": "execute_result"
    }
   ],
   "source": [
    "print(\"Jumlah Duplikasi: \", day_df.duplicated().sum())\n",
    "day_df.describe()"
   ]
  },
  {
   "cell_type": "markdown",
   "id": "d12be384",
   "metadata": {},
   "source": [
    "### Hour_df"
   ]
  },
  {
   "cell_type": "markdown",
   "id": "3e1c2ccf",
   "metadata": {},
   "source": [
    "Menilai Data Hours"
   ]
  },
  {
   "cell_type": "code",
   "execution_count": 7,
   "id": "fcf2c24e",
   "metadata": {},
   "outputs": [
    {
     "name": "stdout",
     "output_type": "stream",
     "text": [
      "<class 'pandas.core.frame.DataFrame'>\n",
      "RangeIndex: 17379 entries, 0 to 17378\n",
      "Data columns (total 17 columns):\n",
      " #   Column      Non-Null Count  Dtype  \n",
      "---  ------      --------------  -----  \n",
      " 0   instant     17379 non-null  int64  \n",
      " 1   dteday      17379 non-null  object \n",
      " 2   season      17379 non-null  int64  \n",
      " 3   yr          17379 non-null  int64  \n",
      " 4   mnth        17379 non-null  int64  \n",
      " 5   hr          17379 non-null  int64  \n",
      " 6   holiday     17379 non-null  int64  \n",
      " 7   weekday     17379 non-null  int64  \n",
      " 8   workingday  17379 non-null  int64  \n",
      " 9   weathersit  17379 non-null  int64  \n",
      " 10  temp        17379 non-null  float64\n",
      " 11  atemp       17379 non-null  float64\n",
      " 12  hum         17379 non-null  float64\n",
      " 13  windspeed   17379 non-null  float64\n",
      " 14  casual      17379 non-null  int64  \n",
      " 15  registered  17379 non-null  int64  \n",
      " 16  cnt         17379 non-null  int64  \n",
      "dtypes: float64(4), int64(12), object(1)\n",
      "memory usage: 2.3+ MB\n"
     ]
    }
   ],
   "source": [
    "hour_df.info()"
   ]
  },
  {
   "cell_type": "markdown",
   "id": "1ba46039",
   "metadata": {},
   "source": [
    "Mengecek Missing Value"
   ]
  },
  {
   "cell_type": "code",
   "execution_count": 8,
   "id": "9c63ea8d",
   "metadata": {},
   "outputs": [
    {
     "data": {
      "text/plain": [
       "instant       0\n",
       "dteday        0\n",
       "season        0\n",
       "yr            0\n",
       "mnth          0\n",
       "hr            0\n",
       "holiday       0\n",
       "weekday       0\n",
       "workingday    0\n",
       "weathersit    0\n",
       "temp          0\n",
       "atemp         0\n",
       "hum           0\n",
       "windspeed     0\n",
       "casual        0\n",
       "registered    0\n",
       "cnt           0\n",
       "dtype: int64"
      ]
     },
     "execution_count": 8,
     "metadata": {},
     "output_type": "execute_result"
    }
   ],
   "source": [
    "hour_df.isna().sum()"
   ]
  },
  {
   "cell_type": "markdown",
   "id": "ad11d2d7",
   "metadata": {},
   "source": [
    "Periksa Duplikasi Data dan Cek Parameter Statistiknya"
   ]
  },
  {
   "cell_type": "code",
   "execution_count": 9,
   "id": "1ecffd8e",
   "metadata": {},
   "outputs": [
    {
     "name": "stdout",
     "output_type": "stream",
     "text": [
      "Jumlah Duplikasi:  0\n"
     ]
    },
    {
     "data": {
      "text/html": [
       "<div>\n",
       "<style scoped>\n",
       "    .dataframe tbody tr th:only-of-type {\n",
       "        vertical-align: middle;\n",
       "    }\n",
       "\n",
       "    .dataframe tbody tr th {\n",
       "        vertical-align: top;\n",
       "    }\n",
       "\n",
       "    .dataframe thead th {\n",
       "        text-align: right;\n",
       "    }\n",
       "</style>\n",
       "<table border=\"1\" class=\"dataframe\">\n",
       "  <thead>\n",
       "    <tr style=\"text-align: right;\">\n",
       "      <th></th>\n",
       "      <th>instant</th>\n",
       "      <th>season</th>\n",
       "      <th>yr</th>\n",
       "      <th>mnth</th>\n",
       "      <th>hr</th>\n",
       "      <th>holiday</th>\n",
       "      <th>weekday</th>\n",
       "      <th>workingday</th>\n",
       "      <th>weathersit</th>\n",
       "      <th>temp</th>\n",
       "      <th>atemp</th>\n",
       "      <th>hum</th>\n",
       "      <th>windspeed</th>\n",
       "      <th>casual</th>\n",
       "      <th>registered</th>\n",
       "      <th>cnt</th>\n",
       "    </tr>\n",
       "  </thead>\n",
       "  <tbody>\n",
       "    <tr>\n",
       "      <th>count</th>\n",
       "      <td>17379.0000</td>\n",
       "      <td>17379.000000</td>\n",
       "      <td>17379.000000</td>\n",
       "      <td>17379.000000</td>\n",
       "      <td>17379.000000</td>\n",
       "      <td>17379.000000</td>\n",
       "      <td>17379.000000</td>\n",
       "      <td>17379.000000</td>\n",
       "      <td>17379.000000</td>\n",
       "      <td>17379.000000</td>\n",
       "      <td>17379.000000</td>\n",
       "      <td>17379.000000</td>\n",
       "      <td>17379.000000</td>\n",
       "      <td>17379.000000</td>\n",
       "      <td>17379.000000</td>\n",
       "      <td>17379.000000</td>\n",
       "    </tr>\n",
       "    <tr>\n",
       "      <th>mean</th>\n",
       "      <td>8690.0000</td>\n",
       "      <td>2.501640</td>\n",
       "      <td>0.502561</td>\n",
       "      <td>6.537775</td>\n",
       "      <td>11.546752</td>\n",
       "      <td>0.028770</td>\n",
       "      <td>3.003683</td>\n",
       "      <td>0.682721</td>\n",
       "      <td>1.425283</td>\n",
       "      <td>0.496987</td>\n",
       "      <td>0.475775</td>\n",
       "      <td>0.627229</td>\n",
       "      <td>0.190098</td>\n",
       "      <td>35.676218</td>\n",
       "      <td>153.786869</td>\n",
       "      <td>189.463088</td>\n",
       "    </tr>\n",
       "    <tr>\n",
       "      <th>std</th>\n",
       "      <td>5017.0295</td>\n",
       "      <td>1.106918</td>\n",
       "      <td>0.500008</td>\n",
       "      <td>3.438776</td>\n",
       "      <td>6.914405</td>\n",
       "      <td>0.167165</td>\n",
       "      <td>2.005771</td>\n",
       "      <td>0.465431</td>\n",
       "      <td>0.639357</td>\n",
       "      <td>0.192556</td>\n",
       "      <td>0.171850</td>\n",
       "      <td>0.192930</td>\n",
       "      <td>0.122340</td>\n",
       "      <td>49.305030</td>\n",
       "      <td>151.357286</td>\n",
       "      <td>181.387599</td>\n",
       "    </tr>\n",
       "    <tr>\n",
       "      <th>min</th>\n",
       "      <td>1.0000</td>\n",
       "      <td>1.000000</td>\n",
       "      <td>0.000000</td>\n",
       "      <td>1.000000</td>\n",
       "      <td>0.000000</td>\n",
       "      <td>0.000000</td>\n",
       "      <td>0.000000</td>\n",
       "      <td>0.000000</td>\n",
       "      <td>1.000000</td>\n",
       "      <td>0.020000</td>\n",
       "      <td>0.000000</td>\n",
       "      <td>0.000000</td>\n",
       "      <td>0.000000</td>\n",
       "      <td>0.000000</td>\n",
       "      <td>0.000000</td>\n",
       "      <td>1.000000</td>\n",
       "    </tr>\n",
       "    <tr>\n",
       "      <th>25%</th>\n",
       "      <td>4345.5000</td>\n",
       "      <td>2.000000</td>\n",
       "      <td>0.000000</td>\n",
       "      <td>4.000000</td>\n",
       "      <td>6.000000</td>\n",
       "      <td>0.000000</td>\n",
       "      <td>1.000000</td>\n",
       "      <td>0.000000</td>\n",
       "      <td>1.000000</td>\n",
       "      <td>0.340000</td>\n",
       "      <td>0.333300</td>\n",
       "      <td>0.480000</td>\n",
       "      <td>0.104500</td>\n",
       "      <td>4.000000</td>\n",
       "      <td>34.000000</td>\n",
       "      <td>40.000000</td>\n",
       "    </tr>\n",
       "    <tr>\n",
       "      <th>50%</th>\n",
       "      <td>8690.0000</td>\n",
       "      <td>3.000000</td>\n",
       "      <td>1.000000</td>\n",
       "      <td>7.000000</td>\n",
       "      <td>12.000000</td>\n",
       "      <td>0.000000</td>\n",
       "      <td>3.000000</td>\n",
       "      <td>1.000000</td>\n",
       "      <td>1.000000</td>\n",
       "      <td>0.500000</td>\n",
       "      <td>0.484800</td>\n",
       "      <td>0.630000</td>\n",
       "      <td>0.194000</td>\n",
       "      <td>17.000000</td>\n",
       "      <td>115.000000</td>\n",
       "      <td>142.000000</td>\n",
       "    </tr>\n",
       "    <tr>\n",
       "      <th>75%</th>\n",
       "      <td>13034.5000</td>\n",
       "      <td>3.000000</td>\n",
       "      <td>1.000000</td>\n",
       "      <td>10.000000</td>\n",
       "      <td>18.000000</td>\n",
       "      <td>0.000000</td>\n",
       "      <td>5.000000</td>\n",
       "      <td>1.000000</td>\n",
       "      <td>2.000000</td>\n",
       "      <td>0.660000</td>\n",
       "      <td>0.621200</td>\n",
       "      <td>0.780000</td>\n",
       "      <td>0.253700</td>\n",
       "      <td>48.000000</td>\n",
       "      <td>220.000000</td>\n",
       "      <td>281.000000</td>\n",
       "    </tr>\n",
       "    <tr>\n",
       "      <th>max</th>\n",
       "      <td>17379.0000</td>\n",
       "      <td>4.000000</td>\n",
       "      <td>1.000000</td>\n",
       "      <td>12.000000</td>\n",
       "      <td>23.000000</td>\n",
       "      <td>1.000000</td>\n",
       "      <td>6.000000</td>\n",
       "      <td>1.000000</td>\n",
       "      <td>4.000000</td>\n",
       "      <td>1.000000</td>\n",
       "      <td>1.000000</td>\n",
       "      <td>1.000000</td>\n",
       "      <td>0.850700</td>\n",
       "      <td>367.000000</td>\n",
       "      <td>886.000000</td>\n",
       "      <td>977.000000</td>\n",
       "    </tr>\n",
       "  </tbody>\n",
       "</table>\n",
       "</div>"
      ],
      "text/plain": [
       "          instant        season            yr          mnth            hr  \\\n",
       "count  17379.0000  17379.000000  17379.000000  17379.000000  17379.000000   \n",
       "mean    8690.0000      2.501640      0.502561      6.537775     11.546752   \n",
       "std     5017.0295      1.106918      0.500008      3.438776      6.914405   \n",
       "min        1.0000      1.000000      0.000000      1.000000      0.000000   \n",
       "25%     4345.5000      2.000000      0.000000      4.000000      6.000000   \n",
       "50%     8690.0000      3.000000      1.000000      7.000000     12.000000   \n",
       "75%    13034.5000      3.000000      1.000000     10.000000     18.000000   \n",
       "max    17379.0000      4.000000      1.000000     12.000000     23.000000   \n",
       "\n",
       "            holiday       weekday    workingday    weathersit          temp  \\\n",
       "count  17379.000000  17379.000000  17379.000000  17379.000000  17379.000000   \n",
       "mean       0.028770      3.003683      0.682721      1.425283      0.496987   \n",
       "std        0.167165      2.005771      0.465431      0.639357      0.192556   \n",
       "min        0.000000      0.000000      0.000000      1.000000      0.020000   \n",
       "25%        0.000000      1.000000      0.000000      1.000000      0.340000   \n",
       "50%        0.000000      3.000000      1.000000      1.000000      0.500000   \n",
       "75%        0.000000      5.000000      1.000000      2.000000      0.660000   \n",
       "max        1.000000      6.000000      1.000000      4.000000      1.000000   \n",
       "\n",
       "              atemp           hum     windspeed        casual    registered  \\\n",
       "count  17379.000000  17379.000000  17379.000000  17379.000000  17379.000000   \n",
       "mean       0.475775      0.627229      0.190098     35.676218    153.786869   \n",
       "std        0.171850      0.192930      0.122340     49.305030    151.357286   \n",
       "min        0.000000      0.000000      0.000000      0.000000      0.000000   \n",
       "25%        0.333300      0.480000      0.104500      4.000000     34.000000   \n",
       "50%        0.484800      0.630000      0.194000     17.000000    115.000000   \n",
       "75%        0.621200      0.780000      0.253700     48.000000    220.000000   \n",
       "max        1.000000      1.000000      0.850700    367.000000    886.000000   \n",
       "\n",
       "                cnt  \n",
       "count  17379.000000  \n",
       "mean     189.463088  \n",
       "std      181.387599  \n",
       "min        1.000000  \n",
       "25%       40.000000  \n",
       "50%      142.000000  \n",
       "75%      281.000000  \n",
       "max      977.000000  "
      ]
     },
     "execution_count": 9,
     "metadata": {},
     "output_type": "execute_result"
    }
   ],
   "source": [
    "print(\"Jumlah Duplikasi: \", hour_df.duplicated().sum())\n",
    "hour_df.describe()"
   ]
  },
  {
   "cell_type": "markdown",
   "id": "7f1ba893",
   "metadata": {},
   "source": [
    "## Cleaning Data "
   ]
  },
  {
   "cell_type": "markdown",
   "id": "294004be",
   "metadata": {},
   "source": [
    "### Day_df"
   ]
  },
  {
   "cell_type": "markdown",
   "id": "d69b6313",
   "metadata": {},
   "source": [
    "Mengubah (replace) data pada kolom season dimana data masih berupa angka cth:1,2,3,dan 4 \n",
    "menjadi kategori seperti cth: spring,summer,fall, dan winter"
   ]
  },
  {
   "cell_type": "code",
   "execution_count": 10,
   "id": "16000d19",
   "metadata": {},
   "outputs": [],
   "source": [
    "day_df.season.replace((1,2,3,4), (\"Spring\", \"Summer\", \"Fall\", \"Winter\"), inplace=True)"
   ]
  },
  {
   "cell_type": "code",
   "execution_count": 11,
   "id": "c761ba6a",
   "metadata": {},
   "outputs": [
    {
     "data": {
      "text/plain": [
       "594      Fall\n",
       "55     Spring\n",
       "653    Winter\n",
       "300    Winter\n",
       "467    Summer\n",
       "598      Fall\n",
       "250      Fall\n",
       "307    Winter\n",
       "578      Fall\n",
       "230      Fall\n",
       "724    Spring\n",
       "104    Summer\n",
       "556      Fall\n",
       "409    Spring\n",
       "279    Winter\n",
       "596      Fall\n",
       "66     Spring\n",
       "44     Spring\n",
       "487    Summer\n",
       "347    Winter\n",
       "Name: season, dtype: object"
      ]
     },
     "execution_count": 11,
     "metadata": {},
     "output_type": "execute_result"
    }
   ],
   "source": [
    "day_df.season.sample(20)"
   ]
  },
  {
   "cell_type": "markdown",
   "id": "e5425622",
   "metadata": {},
   "source": [
    "merubah (replace) data pada kolom yr dimana data masih berupa angka seperti 0 dan 1\n",
    "menjadi 0 : 2011 dan 1 : 2012"
   ]
  },
  {
   "cell_type": "code",
   "execution_count": 12,
   "id": "8cec9f6c",
   "metadata": {},
   "outputs": [],
   "source": [
    "day_df.yr.replace((0, 1), (2011, 2012), inplace=True)"
   ]
  },
  {
   "cell_type": "code",
   "execution_count": 13,
   "id": "5b00a920",
   "metadata": {},
   "outputs": [
    {
     "data": {
      "text/plain": [
       "239    2011\n",
       "502    2012\n",
       "180    2011\n",
       "682    2012\n",
       "648    2012\n",
       "64     2011\n",
       "212    2011\n",
       "136    2011\n",
       "632    2012\n",
       "429    2012\n",
       "Name: yr, dtype: int64"
      ]
     },
     "execution_count": 13,
     "metadata": {},
     "output_type": "execute_result"
    }
   ],
   "source": [
    "day_df.yr.sample(10)"
   ]
  },
  {
   "cell_type": "markdown",
   "id": "c6c5f7cb",
   "metadata": {},
   "source": [
    "Mengubah (replace) data pada kolom weathersit dimana data masih berupa angka cth:1,2,3,dan 4 \n",
    "menjadi kategori seperti cth: Clear,Mist,Light Rain, dan Heavy Rain"
   ]
  },
  {
   "cell_type": "code",
   "execution_count": 14,
   "id": "02d5764d",
   "metadata": {},
   "outputs": [],
   "source": [
    "day_df.weathersit.replace((1,2,3,4), (\"Clear\",\"Mist\",\"Light Rain\", \"Heavy Rain\"), inplace=True)"
   ]
  },
  {
   "cell_type": "code",
   "execution_count": 15,
   "id": "1cb8433b",
   "metadata": {},
   "outputs": [
    {
     "data": {
      "text/plain": [
       "158    Clear\n",
       "427     Mist\n",
       "526    Clear\n",
       "305    Clear\n",
       "460    Clear\n",
       "268     Mist\n",
       "220    Clear\n",
       "320     Mist\n",
       "275     Mist\n",
       "21     Clear\n",
       "Name: weathersit, dtype: object"
      ]
     },
     "execution_count": 15,
     "metadata": {},
     "output_type": "execute_result"
    }
   ],
   "source": [
    "day_df.weathersit.sample(10)"
   ]
  },
  {
   "cell_type": "markdown",
   "id": "30de80e0",
   "metadata": {},
   "source": [
    "Mengubah (replace) data tabel day pada kolom weekday dimana data masih berupa angka cth:0,1,2,3,4,5, dan 6 \n",
    "menjadi kategori seperti cth: Minggu,Senin,Selasa,Rabu,Kamis,Jum'at, dan Sabtu"
   ]
  },
  {
   "cell_type": "code",
   "execution_count": 16,
   "id": "a8ac59af",
   "metadata": {},
   "outputs": [],
   "source": [
    "day_df.weekday.replace((0,1,2,3,4,5,6), (\"Minggu\",\"Senin\",\"Selasa\", \"Rabu\", \"Kamis\", \"Jum'at\", \"Sabtu\"), inplace=True)"
   ]
  },
  {
   "cell_type": "code",
   "execution_count": 17,
   "id": "f5e1f605",
   "metadata": {},
   "outputs": [
    {
     "data": {
      "text/plain": [
       "504     Sabtu\n",
       "524    Jum'at\n",
       "593     Kamis\n",
       "208     Kamis\n",
       "133     Sabtu\n",
       "514    Selasa\n",
       "481     Kamis\n",
       "292     Kamis\n",
       "568    Minggu\n",
       "566    Jum'at\n",
       "Name: weekday, dtype: object"
      ]
     },
     "execution_count": 17,
     "metadata": {},
     "output_type": "execute_result"
    }
   ],
   "source": [
    "day_df.weekday.sample(10)"
   ]
  },
  {
   "cell_type": "markdown",
   "id": "311df94d",
   "metadata": {},
   "source": [
    "Memperbaiki Format pada kolom dteday dari dataframe day dari format object menjadi format datetime"
   ]
  },
  {
   "cell_type": "code",
   "execution_count": 18,
   "id": "252c1302",
   "metadata": {},
   "outputs": [],
   "source": [
    "datetime_columns = [\"dteday\"]\n",
    "\n",
    "for column in datetime_columns:\n",
    "    day_df[column] = pd.to_datetime(day_df[column])"
   ]
  },
  {
   "cell_type": "code",
   "execution_count": 19,
   "id": "dd11bb8f",
   "metadata": {},
   "outputs": [
    {
     "name": "stdout",
     "output_type": "stream",
     "text": [
      "<class 'pandas.core.series.Series'>\n",
      "RangeIndex: 731 entries, 0 to 730\n",
      "Series name: dteday\n",
      "Non-Null Count  Dtype         \n",
      "--------------  -----         \n",
      "731 non-null    datetime64[ns]\n",
      "dtypes: datetime64[ns](1)\n",
      "memory usage: 5.8 KB\n"
     ]
    }
   ],
   "source": [
    "day_df.dteday.info()"
   ]
  },
  {
   "cell_type": "markdown",
   "id": "fbdd732a",
   "metadata": {},
   "source": [
    "### Hour_df"
   ]
  },
  {
   "cell_type": "markdown",
   "id": "f118680f",
   "metadata": {},
   "source": [
    "Mengubah (replace) data pada kolom season dimana data masih berupa angka cth:1,2,3,dan 4 \n",
    "menjadi kategori seperti cth: spring,summer,fall, dan winter"
   ]
  },
  {
   "cell_type": "code",
   "execution_count": 20,
   "id": "40aec33e",
   "metadata": {},
   "outputs": [],
   "source": [
    "hour_df.season.replace((1,2,3,4), (\"Spring\", \"Summer\", \"Fall\", \"Winter\"), inplace=True)"
   ]
  },
  {
   "cell_type": "code",
   "execution_count": 21,
   "id": "9be7ccd6",
   "metadata": {},
   "outputs": [
    {
     "data": {
      "text/plain": [
       "10734    Summer\n",
       "7567     Winter\n",
       "4068       Fall\n",
       "13651      Fall\n",
       "15732    Winter\n",
       "14252      Fall\n",
       "12674    Summer\n",
       "6277     Winter\n",
       "461      Spring\n",
       "17097    Winter\n",
       "Name: season, dtype: object"
      ]
     },
     "execution_count": 21,
     "metadata": {},
     "output_type": "execute_result"
    }
   ],
   "source": [
    "hour_df.season.sample(10)"
   ]
  },
  {
   "cell_type": "markdown",
   "id": "d4f2c20f",
   "metadata": {},
   "source": [
    "merubah (replace) data pada kolom yr dimana data masih berupa angka seperti 0 dan 1\n",
    "menjadi 0 : 2011 dan 1 : 2012"
   ]
  },
  {
   "cell_type": "code",
   "execution_count": 22,
   "id": "48f4fbfa",
   "metadata": {},
   "outputs": [],
   "source": [
    "hour_df.yr.replace((0, 1), (2011, 2012), inplace=True)"
   ]
  },
  {
   "cell_type": "code",
   "execution_count": 23,
   "id": "f92e37f1",
   "metadata": {},
   "outputs": [
    {
     "data": {
      "text/plain": [
       "9828     2012\n",
       "3006     2011\n",
       "7069     2011\n",
       "9126     2012\n",
       "11147    2012\n",
       "10505    2012\n",
       "14065    2012\n",
       "8954     2012\n",
       "498      2011\n",
       "13334    2012\n",
       "Name: yr, dtype: int64"
      ]
     },
     "execution_count": 23,
     "metadata": {},
     "output_type": "execute_result"
    }
   ],
   "source": [
    "hour_df.yr.sample(10)"
   ]
  },
  {
   "cell_type": "markdown",
   "id": "f63105f2",
   "metadata": {},
   "source": [
    "Mengubah (replace) data pada kolom weathersit dimana data masih berupa angka cth:1,2,3,dan 4 \n",
    "menjadi kategori seperti cth: Clear,Mist,Light Rain, dan Heavy Rain"
   ]
  },
  {
   "cell_type": "code",
   "execution_count": 24,
   "id": "2a8a3a9a",
   "metadata": {},
   "outputs": [],
   "source": [
    "hour_df.weathersit.replace((1,2,3,4), (\"Clear\",\"Mist\",\"Light Rain\", \"Heavy Rain\"), inplace=True)"
   ]
  },
  {
   "cell_type": "code",
   "execution_count": 25,
   "id": "8faeb445",
   "metadata": {},
   "outputs": [
    {
     "data": {
      "text/plain": [
       "15176         Clear\n",
       "15918         Clear\n",
       "6333          Clear\n",
       "4653          Clear\n",
       "2161           Mist\n",
       "5901           Mist\n",
       "6123          Clear\n",
       "5060     Light Rain\n",
       "8098          Clear\n",
       "10415         Clear\n",
       "Name: weathersit, dtype: object"
      ]
     },
     "execution_count": 25,
     "metadata": {},
     "output_type": "execute_result"
    }
   ],
   "source": [
    "hour_df.weathersit.sample(10)"
   ]
  },
  {
   "cell_type": "markdown",
   "id": "f16f50d0",
   "metadata": {},
   "source": [
    "Mengubah (replace) data tabel hour pada kolom weekday dimana data masih berupa angka cth:0,1,2,3,4,5, dan 6 \n",
    "menjadi kategori seperti cth: Minggu,Senin,Selasa,Rabu,Kamis,Jum'at, dan Sabtu"
   ]
  },
  {
   "cell_type": "code",
   "execution_count": 26,
   "id": "3aff3838",
   "metadata": {},
   "outputs": [],
   "source": [
    "hour_df.weekday.replace((0,1,2,3,4,5,6), (\"Minggu\",\"Senin\",\"Selasa\", \"Rabu\", \"Kamis\", \"Jum'at\", \"Sabtu\"), inplace=True)"
   ]
  },
  {
   "cell_type": "code",
   "execution_count": 27,
   "id": "af849a69",
   "metadata": {},
   "outputs": [
    {
     "data": {
      "text/plain": [
       "12271     Kamis\n",
       "5252      Kamis\n",
       "4718       Rabu\n",
       "14172     Sabtu\n",
       "12650     Sabtu\n",
       "8525      Senin\n",
       "10861     Senin\n",
       "13407    Selasa\n",
       "12437     Kamis\n",
       "9386       Rabu\n",
       "Name: weekday, dtype: object"
      ]
     },
     "execution_count": 27,
     "metadata": {},
     "output_type": "execute_result"
    }
   ],
   "source": [
    "hour_df.weekday.sample(10)"
   ]
  },
  {
   "cell_type": "markdown",
   "id": "a42b8978",
   "metadata": {},
   "source": [
    "Memperbaiki Format pada kolom dteday dari dataframe hour dari format object menjadi format datetime"
   ]
  },
  {
   "cell_type": "code",
   "execution_count": 28,
   "id": "d4c83b4c",
   "metadata": {},
   "outputs": [],
   "source": [
    "datetime_columns_hour = [\"dteday\"]\n",
    "\n",
    "for column in datetime_columns_hour:\n",
    "    hour_df[column] = pd.to_datetime(hour_df[column])"
   ]
  },
  {
   "cell_type": "code",
   "execution_count": 29,
   "id": "0646f1b9",
   "metadata": {},
   "outputs": [
    {
     "name": "stdout",
     "output_type": "stream",
     "text": [
      "<class 'pandas.core.series.Series'>\n",
      "RangeIndex: 731 entries, 0 to 730\n",
      "Series name: dteday\n",
      "Non-Null Count  Dtype         \n",
      "--------------  -----         \n",
      "731 non-null    datetime64[ns]\n",
      "dtypes: datetime64[ns](1)\n",
      "memory usage: 5.8 KB\n"
     ]
    }
   ],
   "source": [
    "day_df.dteday.info()"
   ]
  },
  {
   "cell_type": "markdown",
   "id": "196b99b8",
   "metadata": {},
   "source": [
    "# Exploratory Data Analysis (EDA)"
   ]
  },
  {
   "cell_type": "markdown",
   "id": "8f8e64dc",
   "metadata": {},
   "source": [
    "### Eksplorasi Data day_df"
   ]
  },
  {
   "cell_type": "code",
   "execution_count": 30,
   "id": "61775867",
   "metadata": {},
   "outputs": [
    {
     "data": {
      "text/html": [
       "<div>\n",
       "<style scoped>\n",
       "    .dataframe tbody tr th:only-of-type {\n",
       "        vertical-align: middle;\n",
       "    }\n",
       "\n",
       "    .dataframe tbody tr th {\n",
       "        vertical-align: top;\n",
       "    }\n",
       "\n",
       "    .dataframe thead th {\n",
       "        text-align: right;\n",
       "    }\n",
       "</style>\n",
       "<table border=\"1\" class=\"dataframe\">\n",
       "  <thead>\n",
       "    <tr style=\"text-align: right;\">\n",
       "      <th></th>\n",
       "      <th>instant</th>\n",
       "      <th>dteday</th>\n",
       "      <th>season</th>\n",
       "      <th>yr</th>\n",
       "      <th>mnth</th>\n",
       "      <th>holiday</th>\n",
       "      <th>weekday</th>\n",
       "      <th>workingday</th>\n",
       "      <th>weathersit</th>\n",
       "      <th>temp</th>\n",
       "      <th>atemp</th>\n",
       "      <th>hum</th>\n",
       "      <th>windspeed</th>\n",
       "      <th>casual</th>\n",
       "      <th>registered</th>\n",
       "      <th>cnt</th>\n",
       "    </tr>\n",
       "  </thead>\n",
       "  <tbody>\n",
       "    <tr>\n",
       "      <th>count</th>\n",
       "      <td>731.000000</td>\n",
       "      <td>731</td>\n",
       "      <td>731</td>\n",
       "      <td>731.000000</td>\n",
       "      <td>731.000000</td>\n",
       "      <td>731.000000</td>\n",
       "      <td>731</td>\n",
       "      <td>731.000000</td>\n",
       "      <td>731</td>\n",
       "      <td>731.000000</td>\n",
       "      <td>731.000000</td>\n",
       "      <td>731.000000</td>\n",
       "      <td>731.000000</td>\n",
       "      <td>731.000000</td>\n",
       "      <td>731.000000</td>\n",
       "      <td>731.000000</td>\n",
       "    </tr>\n",
       "    <tr>\n",
       "      <th>unique</th>\n",
       "      <td>NaN</td>\n",
       "      <td>NaN</td>\n",
       "      <td>4</td>\n",
       "      <td>NaN</td>\n",
       "      <td>NaN</td>\n",
       "      <td>NaN</td>\n",
       "      <td>7</td>\n",
       "      <td>NaN</td>\n",
       "      <td>3</td>\n",
       "      <td>NaN</td>\n",
       "      <td>NaN</td>\n",
       "      <td>NaN</td>\n",
       "      <td>NaN</td>\n",
       "      <td>NaN</td>\n",
       "      <td>NaN</td>\n",
       "      <td>NaN</td>\n",
       "    </tr>\n",
       "    <tr>\n",
       "      <th>top</th>\n",
       "      <td>NaN</td>\n",
       "      <td>NaN</td>\n",
       "      <td>Fall</td>\n",
       "      <td>NaN</td>\n",
       "      <td>NaN</td>\n",
       "      <td>NaN</td>\n",
       "      <td>Sabtu</td>\n",
       "      <td>NaN</td>\n",
       "      <td>Clear</td>\n",
       "      <td>NaN</td>\n",
       "      <td>NaN</td>\n",
       "      <td>NaN</td>\n",
       "      <td>NaN</td>\n",
       "      <td>NaN</td>\n",
       "      <td>NaN</td>\n",
       "      <td>NaN</td>\n",
       "    </tr>\n",
       "    <tr>\n",
       "      <th>freq</th>\n",
       "      <td>NaN</td>\n",
       "      <td>NaN</td>\n",
       "      <td>188</td>\n",
       "      <td>NaN</td>\n",
       "      <td>NaN</td>\n",
       "      <td>NaN</td>\n",
       "      <td>105</td>\n",
       "      <td>NaN</td>\n",
       "      <td>463</td>\n",
       "      <td>NaN</td>\n",
       "      <td>NaN</td>\n",
       "      <td>NaN</td>\n",
       "      <td>NaN</td>\n",
       "      <td>NaN</td>\n",
       "      <td>NaN</td>\n",
       "      <td>NaN</td>\n",
       "    </tr>\n",
       "    <tr>\n",
       "      <th>mean</th>\n",
       "      <td>366.000000</td>\n",
       "      <td>2012-01-01 00:00:00</td>\n",
       "      <td>NaN</td>\n",
       "      <td>2011.500684</td>\n",
       "      <td>6.519836</td>\n",
       "      <td>0.028728</td>\n",
       "      <td>NaN</td>\n",
       "      <td>0.683995</td>\n",
       "      <td>NaN</td>\n",
       "      <td>0.495385</td>\n",
       "      <td>0.474354</td>\n",
       "      <td>0.627894</td>\n",
       "      <td>0.190486</td>\n",
       "      <td>848.176471</td>\n",
       "      <td>3656.172367</td>\n",
       "      <td>4504.348837</td>\n",
       "    </tr>\n",
       "    <tr>\n",
       "      <th>min</th>\n",
       "      <td>1.000000</td>\n",
       "      <td>2011-01-01 00:00:00</td>\n",
       "      <td>NaN</td>\n",
       "      <td>2011.000000</td>\n",
       "      <td>1.000000</td>\n",
       "      <td>0.000000</td>\n",
       "      <td>NaN</td>\n",
       "      <td>0.000000</td>\n",
       "      <td>NaN</td>\n",
       "      <td>0.059130</td>\n",
       "      <td>0.079070</td>\n",
       "      <td>0.000000</td>\n",
       "      <td>0.022392</td>\n",
       "      <td>2.000000</td>\n",
       "      <td>20.000000</td>\n",
       "      <td>22.000000</td>\n",
       "    </tr>\n",
       "    <tr>\n",
       "      <th>25%</th>\n",
       "      <td>183.500000</td>\n",
       "      <td>2011-07-02 12:00:00</td>\n",
       "      <td>NaN</td>\n",
       "      <td>2011.000000</td>\n",
       "      <td>4.000000</td>\n",
       "      <td>0.000000</td>\n",
       "      <td>NaN</td>\n",
       "      <td>0.000000</td>\n",
       "      <td>NaN</td>\n",
       "      <td>0.337083</td>\n",
       "      <td>0.337842</td>\n",
       "      <td>0.520000</td>\n",
       "      <td>0.134950</td>\n",
       "      <td>315.500000</td>\n",
       "      <td>2497.000000</td>\n",
       "      <td>3152.000000</td>\n",
       "    </tr>\n",
       "    <tr>\n",
       "      <th>50%</th>\n",
       "      <td>366.000000</td>\n",
       "      <td>2012-01-01 00:00:00</td>\n",
       "      <td>NaN</td>\n",
       "      <td>2012.000000</td>\n",
       "      <td>7.000000</td>\n",
       "      <td>0.000000</td>\n",
       "      <td>NaN</td>\n",
       "      <td>1.000000</td>\n",
       "      <td>NaN</td>\n",
       "      <td>0.498333</td>\n",
       "      <td>0.486733</td>\n",
       "      <td>0.626667</td>\n",
       "      <td>0.180975</td>\n",
       "      <td>713.000000</td>\n",
       "      <td>3662.000000</td>\n",
       "      <td>4548.000000</td>\n",
       "    </tr>\n",
       "    <tr>\n",
       "      <th>75%</th>\n",
       "      <td>548.500000</td>\n",
       "      <td>2012-07-01 12:00:00</td>\n",
       "      <td>NaN</td>\n",
       "      <td>2012.000000</td>\n",
       "      <td>10.000000</td>\n",
       "      <td>0.000000</td>\n",
       "      <td>NaN</td>\n",
       "      <td>1.000000</td>\n",
       "      <td>NaN</td>\n",
       "      <td>0.655417</td>\n",
       "      <td>0.608602</td>\n",
       "      <td>0.730209</td>\n",
       "      <td>0.233214</td>\n",
       "      <td>1096.000000</td>\n",
       "      <td>4776.500000</td>\n",
       "      <td>5956.000000</td>\n",
       "    </tr>\n",
       "    <tr>\n",
       "      <th>max</th>\n",
       "      <td>731.000000</td>\n",
       "      <td>2012-12-31 00:00:00</td>\n",
       "      <td>NaN</td>\n",
       "      <td>2012.000000</td>\n",
       "      <td>12.000000</td>\n",
       "      <td>1.000000</td>\n",
       "      <td>NaN</td>\n",
       "      <td>1.000000</td>\n",
       "      <td>NaN</td>\n",
       "      <td>0.861667</td>\n",
       "      <td>0.840896</td>\n",
       "      <td>0.972500</td>\n",
       "      <td>0.507463</td>\n",
       "      <td>3410.000000</td>\n",
       "      <td>6946.000000</td>\n",
       "      <td>8714.000000</td>\n",
       "    </tr>\n",
       "    <tr>\n",
       "      <th>std</th>\n",
       "      <td>211.165812</td>\n",
       "      <td>NaN</td>\n",
       "      <td>NaN</td>\n",
       "      <td>0.500342</td>\n",
       "      <td>3.451913</td>\n",
       "      <td>0.167155</td>\n",
       "      <td>NaN</td>\n",
       "      <td>0.465233</td>\n",
       "      <td>NaN</td>\n",
       "      <td>0.183051</td>\n",
       "      <td>0.162961</td>\n",
       "      <td>0.142429</td>\n",
       "      <td>0.077498</td>\n",
       "      <td>686.622488</td>\n",
       "      <td>1560.256377</td>\n",
       "      <td>1937.211452</td>\n",
       "    </tr>\n",
       "  </tbody>\n",
       "</table>\n",
       "</div>"
      ],
      "text/plain": [
       "           instant               dteday season           yr        mnth  \\\n",
       "count   731.000000                  731    731   731.000000  731.000000   \n",
       "unique         NaN                  NaN      4          NaN         NaN   \n",
       "top            NaN                  NaN   Fall          NaN         NaN   \n",
       "freq           NaN                  NaN    188          NaN         NaN   \n",
       "mean    366.000000  2012-01-01 00:00:00    NaN  2011.500684    6.519836   \n",
       "min       1.000000  2011-01-01 00:00:00    NaN  2011.000000    1.000000   \n",
       "25%     183.500000  2011-07-02 12:00:00    NaN  2011.000000    4.000000   \n",
       "50%     366.000000  2012-01-01 00:00:00    NaN  2012.000000    7.000000   \n",
       "75%     548.500000  2012-07-01 12:00:00    NaN  2012.000000   10.000000   \n",
       "max     731.000000  2012-12-31 00:00:00    NaN  2012.000000   12.000000   \n",
       "std     211.165812                  NaN    NaN     0.500342    3.451913   \n",
       "\n",
       "           holiday weekday  workingday weathersit        temp       atemp  \\\n",
       "count   731.000000     731  731.000000        731  731.000000  731.000000   \n",
       "unique         NaN       7         NaN          3         NaN         NaN   \n",
       "top            NaN   Sabtu         NaN      Clear         NaN         NaN   \n",
       "freq           NaN     105         NaN        463         NaN         NaN   \n",
       "mean      0.028728     NaN    0.683995        NaN    0.495385    0.474354   \n",
       "min       0.000000     NaN    0.000000        NaN    0.059130    0.079070   \n",
       "25%       0.000000     NaN    0.000000        NaN    0.337083    0.337842   \n",
       "50%       0.000000     NaN    1.000000        NaN    0.498333    0.486733   \n",
       "75%       0.000000     NaN    1.000000        NaN    0.655417    0.608602   \n",
       "max       1.000000     NaN    1.000000        NaN    0.861667    0.840896   \n",
       "std       0.167155     NaN    0.465233        NaN    0.183051    0.162961   \n",
       "\n",
       "               hum   windspeed       casual   registered          cnt  \n",
       "count   731.000000  731.000000   731.000000   731.000000   731.000000  \n",
       "unique         NaN         NaN          NaN          NaN          NaN  \n",
       "top            NaN         NaN          NaN          NaN          NaN  \n",
       "freq           NaN         NaN          NaN          NaN          NaN  \n",
       "mean      0.627894    0.190486   848.176471  3656.172367  4504.348837  \n",
       "min       0.000000    0.022392     2.000000    20.000000    22.000000  \n",
       "25%       0.520000    0.134950   315.500000  2497.000000  3152.000000  \n",
       "50%       0.626667    0.180975   713.000000  3662.000000  4548.000000  \n",
       "75%       0.730209    0.233214  1096.000000  4776.500000  5956.000000  \n",
       "max       0.972500    0.507463  3410.000000  6946.000000  8714.000000  \n",
       "std       0.142429    0.077498   686.622488  1560.256377  1937.211452  "
      ]
     },
     "execution_count": 30,
     "metadata": {},
     "output_type": "execute_result"
    }
   ],
   "source": [
    "day_df.describe(include=\"all\")"
   ]
  },
  {
   "cell_type": "code",
   "execution_count": 31,
   "id": "66116551",
   "metadata": {},
   "outputs": [
    {
     "data": {
      "text/html": [
       "<div>\n",
       "<style scoped>\n",
       "    .dataframe tbody tr th:only-of-type {\n",
       "        vertical-align: middle;\n",
       "    }\n",
       "\n",
       "    .dataframe tbody tr th {\n",
       "        vertical-align: top;\n",
       "    }\n",
       "\n",
       "    .dataframe thead th {\n",
       "        text-align: right;\n",
       "    }\n",
       "</style>\n",
       "<table border=\"1\" class=\"dataframe\">\n",
       "  <thead>\n",
       "    <tr style=\"text-align: right;\">\n",
       "      <th></th>\n",
       "      <th></th>\n",
       "      <th>cnt</th>\n",
       "    </tr>\n",
       "    <tr>\n",
       "      <th>season</th>\n",
       "      <th>yr</th>\n",
       "      <th></th>\n",
       "    </tr>\n",
       "  </thead>\n",
       "  <tbody>\n",
       "    <tr>\n",
       "      <th>Fall</th>\n",
       "      <th>2012</th>\n",
       "      <td>641479</td>\n",
       "    </tr>\n",
       "    <tr>\n",
       "      <th>Summer</th>\n",
       "      <th>2012</th>\n",
       "      <td>571273</td>\n",
       "    </tr>\n",
       "    <tr>\n",
       "      <th>Winter</th>\n",
       "      <th>2012</th>\n",
       "      <td>515476</td>\n",
       "    </tr>\n",
       "    <tr>\n",
       "      <th>Fall</th>\n",
       "      <th>2011</th>\n",
       "      <td>419650</td>\n",
       "    </tr>\n",
       "    <tr>\n",
       "      <th>Summer</th>\n",
       "      <th>2011</th>\n",
       "      <td>347316</td>\n",
       "    </tr>\n",
       "    <tr>\n",
       "      <th>Winter</th>\n",
       "      <th>2011</th>\n",
       "      <td>326137</td>\n",
       "    </tr>\n",
       "    <tr>\n",
       "      <th rowspan=\"2\" valign=\"top\">Spring</th>\n",
       "      <th>2012</th>\n",
       "      <td>321348</td>\n",
       "    </tr>\n",
       "    <tr>\n",
       "      <th>2011</th>\n",
       "      <td>150000</td>\n",
       "    </tr>\n",
       "  </tbody>\n",
       "</table>\n",
       "</div>"
      ],
      "text/plain": [
       "                cnt\n",
       "season yr          \n",
       "Fall   2012  641479\n",
       "Summer 2012  571273\n",
       "Winter 2012  515476\n",
       "Fall   2011  419650\n",
       "Summer 2011  347316\n",
       "Winter 2011  326137\n",
       "Spring 2012  321348\n",
       "       2011  150000"
      ]
     },
     "execution_count": 31,
     "metadata": {},
     "output_type": "execute_result"
    }
   ],
   "source": [
    "#mengetahui jumlah pengguna per-hari (day) berdasarkan musim dan tahun\n",
    "season = day_df.groupby(by=[\"season\",\"yr\"]).agg({\n",
    "    \"cnt\": \"sum\"\n",
    "}).sort_values(by=\"cnt\", ascending=False)\n",
    "\n",
    "season"
   ]
  },
  {
   "cell_type": "code",
   "execution_count": 32,
   "id": "927384e9",
   "metadata": {},
   "outputs": [
    {
     "data": {
      "text/html": [
       "<div>\n",
       "<style scoped>\n",
       "    .dataframe tbody tr th:only-of-type {\n",
       "        vertical-align: middle;\n",
       "    }\n",
       "\n",
       "    .dataframe tbody tr th {\n",
       "        vertical-align: top;\n",
       "    }\n",
       "\n",
       "    .dataframe thead th {\n",
       "        text-align: right;\n",
       "    }\n",
       "</style>\n",
       "<table border=\"1\" class=\"dataframe\">\n",
       "  <thead>\n",
       "    <tr style=\"text-align: right;\">\n",
       "      <th></th>\n",
       "      <th></th>\n",
       "      <th>cnt</th>\n",
       "    </tr>\n",
       "    <tr>\n",
       "      <th>weathersit</th>\n",
       "      <th>yr</th>\n",
       "      <th></th>\n",
       "    </tr>\n",
       "  </thead>\n",
       "  <tbody>\n",
       "    <tr>\n",
       "      <th rowspan=\"2\" valign=\"top\">Clear</th>\n",
       "      <th>2012</th>\n",
       "      <td>1422885</td>\n",
       "    </tr>\n",
       "    <tr>\n",
       "      <th>2011</th>\n",
       "      <td>835067</td>\n",
       "    </tr>\n",
       "    <tr>\n",
       "      <th rowspan=\"2\" valign=\"top\">Mist</th>\n",
       "      <th>2012</th>\n",
       "      <td>613934</td>\n",
       "    </tr>\n",
       "    <tr>\n",
       "      <th>2011</th>\n",
       "      <td>382924</td>\n",
       "    </tr>\n",
       "    <tr>\n",
       "      <th rowspan=\"2\" valign=\"top\">Light Rain</th>\n",
       "      <th>2011</th>\n",
       "      <td>25112</td>\n",
       "    </tr>\n",
       "    <tr>\n",
       "      <th>2012</th>\n",
       "      <td>12757</td>\n",
       "    </tr>\n",
       "  </tbody>\n",
       "</table>\n",
       "</div>"
      ],
      "text/plain": [
       "                     cnt\n",
       "weathersit yr           \n",
       "Clear      2012  1422885\n",
       "           2011   835067\n",
       "Mist       2012   613934\n",
       "           2011   382924\n",
       "Light Rain 2011    25112\n",
       "           2012    12757"
      ]
     },
     "execution_count": 32,
     "metadata": {},
     "output_type": "execute_result"
    }
   ],
   "source": [
    "#Mengetahui jumlah penggunaan berdasarkan cuaca dan tahun\n",
    "cuaca = day_df.groupby(by=[\"weathersit\",\"yr\"]).agg({\n",
    "    \"cnt\": \"sum\"\n",
    "}).sort_values(by=\"cnt\",ascending=False)\n",
    "\n",
    "cuaca"
   ]
  },
  {
   "cell_type": "code",
   "execution_count": 33,
   "id": "990dcb36",
   "metadata": {},
   "outputs": [
    {
     "data": {
      "text/html": [
       "<div>\n",
       "<style scoped>\n",
       "    .dataframe tbody tr th:only-of-type {\n",
       "        vertical-align: middle;\n",
       "    }\n",
       "\n",
       "    .dataframe tbody tr th {\n",
       "        vertical-align: top;\n",
       "    }\n",
       "\n",
       "    .dataframe thead th {\n",
       "        text-align: right;\n",
       "    }\n",
       "</style>\n",
       "<table border=\"1\" class=\"dataframe\">\n",
       "  <thead>\n",
       "    <tr style=\"text-align: right;\">\n",
       "      <th></th>\n",
       "      <th>casual</th>\n",
       "      <th>registered</th>\n",
       "    </tr>\n",
       "    <tr>\n",
       "      <th>yr</th>\n",
       "      <th></th>\n",
       "      <th></th>\n",
       "    </tr>\n",
       "  </thead>\n",
       "  <tbody>\n",
       "    <tr>\n",
       "      <th>2011</th>\n",
       "      <td>247252</td>\n",
       "      <td>995851</td>\n",
       "    </tr>\n",
       "    <tr>\n",
       "      <th>2012</th>\n",
       "      <td>372765</td>\n",
       "      <td>1676811</td>\n",
       "    </tr>\n",
       "  </tbody>\n",
       "</table>\n",
       "</div>"
      ],
      "text/plain": [
       "      casual  registered\n",
       "yr                      \n",
       "2011  247252      995851\n",
       "2012  372765     1676811"
      ]
     },
     "execution_count": 33,
     "metadata": {},
     "output_type": "execute_result"
    }
   ],
   "source": [
    "#mengetahui jumlah pengguna per-hari (day) berdasarkan tipe penggunanya (casual & registered)\n",
    "tipe = day_df.groupby(by=\"yr\").agg({\n",
    "    \"casual\": \"sum\",\n",
    "    \"registered\": \"sum\"\n",
    "}).sort_values(by=[\"casual\", \"registered\"], ascending=False)\n",
    "\n",
    "tipe.sample(2)"
   ]
  },
  {
   "cell_type": "code",
   "execution_count": 34,
   "id": "4d5a6649",
   "metadata": {},
   "outputs": [
    {
     "data": {
      "text/html": [
       "<div>\n",
       "<style scoped>\n",
       "    .dataframe tbody tr th:only-of-type {\n",
       "        vertical-align: middle;\n",
       "    }\n",
       "\n",
       "    .dataframe tbody tr th {\n",
       "        vertical-align: top;\n",
       "    }\n",
       "\n",
       "    .dataframe thead th {\n",
       "        text-align: right;\n",
       "    }\n",
       "</style>\n",
       "<table border=\"1\" class=\"dataframe\">\n",
       "  <thead>\n",
       "    <tr style=\"text-align: right;\">\n",
       "      <th></th>\n",
       "      <th>cnt</th>\n",
       "    </tr>\n",
       "    <tr>\n",
       "      <th>weekday</th>\n",
       "      <th></th>\n",
       "    </tr>\n",
       "  </thead>\n",
       "  <tbody>\n",
       "    <tr>\n",
       "      <th>Jum'at</th>\n",
       "      <td>487790</td>\n",
       "    </tr>\n",
       "    <tr>\n",
       "      <th>Kamis</th>\n",
       "      <td>485395</td>\n",
       "    </tr>\n",
       "    <tr>\n",
       "      <th>Sabtu</th>\n",
       "      <td>477807</td>\n",
       "    </tr>\n",
       "    <tr>\n",
       "      <th>Rabu</th>\n",
       "      <td>473048</td>\n",
       "    </tr>\n",
       "    <tr>\n",
       "      <th>Selasa</th>\n",
       "      <td>469109</td>\n",
       "    </tr>\n",
       "    <tr>\n",
       "      <th>Senin</th>\n",
       "      <td>455503</td>\n",
       "    </tr>\n",
       "    <tr>\n",
       "      <th>Minggu</th>\n",
       "      <td>444027</td>\n",
       "    </tr>\n",
       "  </tbody>\n",
       "</table>\n",
       "</div>"
      ],
      "text/plain": [
       "            cnt\n",
       "weekday        \n",
       "Jum'at   487790\n",
       "Kamis    485395\n",
       "Sabtu    477807\n",
       "Rabu     473048\n",
       "Selasa   469109\n",
       "Senin    455503\n",
       "Minggu   444027"
      ]
     },
     "execution_count": 34,
     "metadata": {},
     "output_type": "execute_result"
    }
   ],
   "source": [
    "#Mengetahui Pada Hari Apa Saja Jumlah Penggunaan paling banyak\n",
    "hari = day_df.groupby(by=\"weekday\").agg({\n",
    "    \"cnt\": \"sum\"\n",
    "}).sort_values(by=\"cnt\", ascending=False)\n",
    "\n",
    "hari"
   ]
  },
  {
   "cell_type": "code",
   "execution_count": 35,
   "id": "47de30b8",
   "metadata": {},
   "outputs": [
    {
     "data": {
      "text/html": [
       "<div>\n",
       "<style scoped>\n",
       "    .dataframe tbody tr th:only-of-type {\n",
       "        vertical-align: middle;\n",
       "    }\n",
       "\n",
       "    .dataframe tbody tr th {\n",
       "        vertical-align: top;\n",
       "    }\n",
       "\n",
       "    .dataframe thead th {\n",
       "        text-align: right;\n",
       "    }\n",
       "</style>\n",
       "<table border=\"1\" class=\"dataframe\">\n",
       "  <thead>\n",
       "    <tr style=\"text-align: right;\">\n",
       "      <th></th>\n",
       "      <th>dteday</th>\n",
       "      <th>tahun</th>\n",
       "      <th>jumlah_pengguna</th>\n",
       "    </tr>\n",
       "  </thead>\n",
       "  <tbody>\n",
       "    <tr>\n",
       "      <th>22</th>\n",
       "      <td>2012-11</td>\n",
       "      <td>[2012]</td>\n",
       "      <td>152664</td>\n",
       "    </tr>\n",
       "    <tr>\n",
       "      <th>7</th>\n",
       "      <td>2011-08</td>\n",
       "      <td>[2011]</td>\n",
       "      <td>136691</td>\n",
       "    </tr>\n",
       "    <tr>\n",
       "      <th>0</th>\n",
       "      <td>2011-01</td>\n",
       "      <td>[2011]</td>\n",
       "      <td>38189</td>\n",
       "    </tr>\n",
       "    <tr>\n",
       "      <th>5</th>\n",
       "      <td>2011-06</td>\n",
       "      <td>[2011]</td>\n",
       "      <td>143512</td>\n",
       "    </tr>\n",
       "    <tr>\n",
       "      <th>20</th>\n",
       "      <td>2012-09</td>\n",
       "      <td>[2012]</td>\n",
       "      <td>218573</td>\n",
       "    </tr>\n",
       "    <tr>\n",
       "      <th>1</th>\n",
       "      <td>2011-02</td>\n",
       "      <td>[2011]</td>\n",
       "      <td>48215</td>\n",
       "    </tr>\n",
       "    <tr>\n",
       "      <th>2</th>\n",
       "      <td>2011-03</td>\n",
       "      <td>[2011]</td>\n",
       "      <td>64045</td>\n",
       "    </tr>\n",
       "    <tr>\n",
       "      <th>23</th>\n",
       "      <td>2012-12</td>\n",
       "      <td>[2012]</td>\n",
       "      <td>123713</td>\n",
       "    </tr>\n",
       "    <tr>\n",
       "      <th>19</th>\n",
       "      <td>2012-08</td>\n",
       "      <td>[2012]</td>\n",
       "      <td>214503</td>\n",
       "    </tr>\n",
       "    <tr>\n",
       "      <th>13</th>\n",
       "      <td>2012-02</td>\n",
       "      <td>[2012]</td>\n",
       "      <td>103137</td>\n",
       "    </tr>\n",
       "  </tbody>\n",
       "</table>\n",
       "</div>"
      ],
      "text/plain": [
       "     dteday   tahun  jumlah_pengguna\n",
       "22  2012-11  [2012]           152664\n",
       "7   2011-08  [2011]           136691\n",
       "0   2011-01  [2011]            38189\n",
       "5   2011-06  [2011]           143512\n",
       "20  2012-09  [2012]           218573\n",
       "1   2011-02  [2011]            48215\n",
       "2   2011-03  [2011]            64045\n",
       "23  2012-12  [2012]           123713\n",
       "19  2012-08  [2012]           214503\n",
       "13  2012-02  [2012]           103137"
      ]
     },
     "execution_count": 35,
     "metadata": {},
     "output_type": "execute_result"
    }
   ],
   "source": [
    "# Merubah Format pada dteday menjadi tahun dan bulan\n",
    "pengguna_bulanan_day = day_df.resample(rule='M', on='dteday').agg({\n",
    "    'yr': 'unique',\n",
    "    'cnt': 'sum'\n",
    "})\n",
    "\n",
    "pengguna_bulanan_day.index = pengguna_bulanan_day.index.strftime('%Y-%m')\n",
    "pengguna_bulanan_day = pengguna_bulanan_day.reset_index()\n",
    "pengguna_bulanan_day.rename(columns={\n",
    "    'yr': 'tahun',\n",
    "    'cnt': 'jumlah_pengguna'\n",
    "}, inplace=True)\n",
    "\n",
    "pengguna_bulanan_day.sample(10)"
   ]
  },
  {
   "cell_type": "code",
   "execution_count": 36,
   "id": "69b9cce6",
   "metadata": {},
   "outputs": [],
   "source": [
    "#Mengubah Format dteday Menjadi Bulan\n",
    "pengguna_bulanan_day = day_df.resample(rule='M', on='dteday').agg({\n",
    "    'yr': 'unique',\n",
    "    'cnt': 'sum'\n",
    "})\n",
    "\n",
    "pengguna_bulanan_day.index = pengguna_bulanan_day.index.strftime('%B')\n",
    "pengguna_bulanan_day = pengguna_bulanan_day.reset_index()\n",
    "pengguna_bulanan_day.rename(columns={\n",
    "    'yr': 'tahun',\n",
    "    'cnt': 'jumlah_pengguna'\n",
    "}, inplace=True)"
   ]
  },
  {
   "cell_type": "code",
   "execution_count": 37,
   "id": "5e8d70c4",
   "metadata": {},
   "outputs": [
    {
     "data": {
      "text/html": [
       "<div>\n",
       "<style scoped>\n",
       "    .dataframe tbody tr th:only-of-type {\n",
       "        vertical-align: middle;\n",
       "    }\n",
       "\n",
       "    .dataframe tbody tr th {\n",
       "        vertical-align: top;\n",
       "    }\n",
       "\n",
       "    .dataframe thead th {\n",
       "        text-align: right;\n",
       "    }\n",
       "</style>\n",
       "<table border=\"1\" class=\"dataframe\">\n",
       "  <thead>\n",
       "    <tr style=\"text-align: right;\">\n",
       "      <th></th>\n",
       "      <th>dteday</th>\n",
       "      <th>tahun</th>\n",
       "      <th>jumlah_pengguna</th>\n",
       "    </tr>\n",
       "  </thead>\n",
       "  <tbody>\n",
       "    <tr>\n",
       "      <th>0</th>\n",
       "      <td>January</td>\n",
       "      <td>[2011]</td>\n",
       "      <td>38189</td>\n",
       "    </tr>\n",
       "    <tr>\n",
       "      <th>1</th>\n",
       "      <td>February</td>\n",
       "      <td>[2011]</td>\n",
       "      <td>48215</td>\n",
       "    </tr>\n",
       "    <tr>\n",
       "      <th>2</th>\n",
       "      <td>March</td>\n",
       "      <td>[2011]</td>\n",
       "      <td>64045</td>\n",
       "    </tr>\n",
       "    <tr>\n",
       "      <th>3</th>\n",
       "      <td>April</td>\n",
       "      <td>[2011]</td>\n",
       "      <td>94870</td>\n",
       "    </tr>\n",
       "    <tr>\n",
       "      <th>4</th>\n",
       "      <td>May</td>\n",
       "      <td>[2011]</td>\n",
       "      <td>135821</td>\n",
       "    </tr>\n",
       "  </tbody>\n",
       "</table>\n",
       "</div>"
      ],
      "text/plain": [
       "     dteday   tahun  jumlah_pengguna\n",
       "0   January  [2011]            38189\n",
       "1  February  [2011]            48215\n",
       "2     March  [2011]            64045\n",
       "3     April  [2011]            94870\n",
       "4       May  [2011]           135821"
      ]
     },
     "execution_count": 37,
     "metadata": {},
     "output_type": "execute_result"
    }
   ],
   "source": [
    "pengguna_bulanan_2011 = pengguna_bulanan_day[pengguna_bulanan_day['tahun'] == 2011]\n",
    "pengguna_bulanan_2011.head()"
   ]
  },
  {
   "cell_type": "code",
   "execution_count": 38,
   "id": "3f95e4a3",
   "metadata": {},
   "outputs": [
    {
     "data": {
      "text/html": [
       "<div>\n",
       "<style scoped>\n",
       "    .dataframe tbody tr th:only-of-type {\n",
       "        vertical-align: middle;\n",
       "    }\n",
       "\n",
       "    .dataframe tbody tr th {\n",
       "        vertical-align: top;\n",
       "    }\n",
       "\n",
       "    .dataframe thead th {\n",
       "        text-align: right;\n",
       "    }\n",
       "</style>\n",
       "<table border=\"1\" class=\"dataframe\">\n",
       "  <thead>\n",
       "    <tr style=\"text-align: right;\">\n",
       "      <th></th>\n",
       "      <th>dteday</th>\n",
       "      <th>tahun</th>\n",
       "      <th>jumlah_pengguna</th>\n",
       "    </tr>\n",
       "  </thead>\n",
       "  <tbody>\n",
       "    <tr>\n",
       "      <th>12</th>\n",
       "      <td>January</td>\n",
       "      <td>[2012]</td>\n",
       "      <td>96744</td>\n",
       "    </tr>\n",
       "    <tr>\n",
       "      <th>13</th>\n",
       "      <td>February</td>\n",
       "      <td>[2012]</td>\n",
       "      <td>103137</td>\n",
       "    </tr>\n",
       "    <tr>\n",
       "      <th>14</th>\n",
       "      <td>March</td>\n",
       "      <td>[2012]</td>\n",
       "      <td>164875</td>\n",
       "    </tr>\n",
       "    <tr>\n",
       "      <th>15</th>\n",
       "      <td>April</td>\n",
       "      <td>[2012]</td>\n",
       "      <td>174224</td>\n",
       "    </tr>\n",
       "    <tr>\n",
       "      <th>16</th>\n",
       "      <td>May</td>\n",
       "      <td>[2012]</td>\n",
       "      <td>195865</td>\n",
       "    </tr>\n",
       "  </tbody>\n",
       "</table>\n",
       "</div>"
      ],
      "text/plain": [
       "      dteday   tahun  jumlah_pengguna\n",
       "12   January  [2012]            96744\n",
       "13  February  [2012]           103137\n",
       "14     March  [2012]           164875\n",
       "15     April  [2012]           174224\n",
       "16       May  [2012]           195865"
      ]
     },
     "execution_count": 38,
     "metadata": {},
     "output_type": "execute_result"
    }
   ],
   "source": [
    "pengguna_bulanan_2012 = pengguna_bulanan_day[pengguna_bulanan_day['tahun'] == 2012]\n",
    "pengguna_bulanan_2012.head()"
   ]
  },
  {
   "cell_type": "markdown",
   "id": "b5e7363d",
   "metadata": {},
   "source": [
    "### Explorasi Data hour_df"
   ]
  },
  {
   "cell_type": "code",
   "execution_count": 39,
   "id": "1b4bcd82",
   "metadata": {},
   "outputs": [
    {
     "data": {
      "text/html": [
       "<div>\n",
       "<style scoped>\n",
       "    .dataframe tbody tr th:only-of-type {\n",
       "        vertical-align: middle;\n",
       "    }\n",
       "\n",
       "    .dataframe tbody tr th {\n",
       "        vertical-align: top;\n",
       "    }\n",
       "\n",
       "    .dataframe thead th {\n",
       "        text-align: right;\n",
       "    }\n",
       "</style>\n",
       "<table border=\"1\" class=\"dataframe\">\n",
       "  <thead>\n",
       "    <tr style=\"text-align: right;\">\n",
       "      <th></th>\n",
       "      <th>instant</th>\n",
       "      <th>dteday</th>\n",
       "      <th>season</th>\n",
       "      <th>yr</th>\n",
       "      <th>mnth</th>\n",
       "      <th>hr</th>\n",
       "      <th>holiday</th>\n",
       "      <th>weekday</th>\n",
       "      <th>workingday</th>\n",
       "      <th>weathersit</th>\n",
       "      <th>temp</th>\n",
       "      <th>atemp</th>\n",
       "      <th>hum</th>\n",
       "      <th>windspeed</th>\n",
       "      <th>casual</th>\n",
       "      <th>registered</th>\n",
       "      <th>cnt</th>\n",
       "    </tr>\n",
       "  </thead>\n",
       "  <tbody>\n",
       "    <tr>\n",
       "      <th>count</th>\n",
       "      <td>17379.0000</td>\n",
       "      <td>17379</td>\n",
       "      <td>17379</td>\n",
       "      <td>17379.000000</td>\n",
       "      <td>17379.000000</td>\n",
       "      <td>17379.000000</td>\n",
       "      <td>17379.000000</td>\n",
       "      <td>17379</td>\n",
       "      <td>17379.000000</td>\n",
       "      <td>17379</td>\n",
       "      <td>17379.000000</td>\n",
       "      <td>17379.000000</td>\n",
       "      <td>17379.000000</td>\n",
       "      <td>17379.000000</td>\n",
       "      <td>17379.000000</td>\n",
       "      <td>17379.000000</td>\n",
       "      <td>17379.000000</td>\n",
       "    </tr>\n",
       "    <tr>\n",
       "      <th>unique</th>\n",
       "      <td>NaN</td>\n",
       "      <td>NaN</td>\n",
       "      <td>4</td>\n",
       "      <td>NaN</td>\n",
       "      <td>NaN</td>\n",
       "      <td>NaN</td>\n",
       "      <td>NaN</td>\n",
       "      <td>7</td>\n",
       "      <td>NaN</td>\n",
       "      <td>4</td>\n",
       "      <td>NaN</td>\n",
       "      <td>NaN</td>\n",
       "      <td>NaN</td>\n",
       "      <td>NaN</td>\n",
       "      <td>NaN</td>\n",
       "      <td>NaN</td>\n",
       "      <td>NaN</td>\n",
       "    </tr>\n",
       "    <tr>\n",
       "      <th>top</th>\n",
       "      <td>NaN</td>\n",
       "      <td>NaN</td>\n",
       "      <td>Fall</td>\n",
       "      <td>NaN</td>\n",
       "      <td>NaN</td>\n",
       "      <td>NaN</td>\n",
       "      <td>NaN</td>\n",
       "      <td>Sabtu</td>\n",
       "      <td>NaN</td>\n",
       "      <td>Clear</td>\n",
       "      <td>NaN</td>\n",
       "      <td>NaN</td>\n",
       "      <td>NaN</td>\n",
       "      <td>NaN</td>\n",
       "      <td>NaN</td>\n",
       "      <td>NaN</td>\n",
       "      <td>NaN</td>\n",
       "    </tr>\n",
       "    <tr>\n",
       "      <th>freq</th>\n",
       "      <td>NaN</td>\n",
       "      <td>NaN</td>\n",
       "      <td>4496</td>\n",
       "      <td>NaN</td>\n",
       "      <td>NaN</td>\n",
       "      <td>NaN</td>\n",
       "      <td>NaN</td>\n",
       "      <td>2512</td>\n",
       "      <td>NaN</td>\n",
       "      <td>11413</td>\n",
       "      <td>NaN</td>\n",
       "      <td>NaN</td>\n",
       "      <td>NaN</td>\n",
       "      <td>NaN</td>\n",
       "      <td>NaN</td>\n",
       "      <td>NaN</td>\n",
       "      <td>NaN</td>\n",
       "    </tr>\n",
       "    <tr>\n",
       "      <th>mean</th>\n",
       "      <td>8690.0000</td>\n",
       "      <td>2012-01-02 04:08:34.552045568</td>\n",
       "      <td>NaN</td>\n",
       "      <td>2011.502561</td>\n",
       "      <td>6.537775</td>\n",
       "      <td>11.546752</td>\n",
       "      <td>0.028770</td>\n",
       "      <td>NaN</td>\n",
       "      <td>0.682721</td>\n",
       "      <td>NaN</td>\n",
       "      <td>0.496987</td>\n",
       "      <td>0.475775</td>\n",
       "      <td>0.627229</td>\n",
       "      <td>0.190098</td>\n",
       "      <td>35.676218</td>\n",
       "      <td>153.786869</td>\n",
       "      <td>189.463088</td>\n",
       "    </tr>\n",
       "    <tr>\n",
       "      <th>min</th>\n",
       "      <td>1.0000</td>\n",
       "      <td>2011-01-01 00:00:00</td>\n",
       "      <td>NaN</td>\n",
       "      <td>2011.000000</td>\n",
       "      <td>1.000000</td>\n",
       "      <td>0.000000</td>\n",
       "      <td>0.000000</td>\n",
       "      <td>NaN</td>\n",
       "      <td>0.000000</td>\n",
       "      <td>NaN</td>\n",
       "      <td>0.020000</td>\n",
       "      <td>0.000000</td>\n",
       "      <td>0.000000</td>\n",
       "      <td>0.000000</td>\n",
       "      <td>0.000000</td>\n",
       "      <td>0.000000</td>\n",
       "      <td>1.000000</td>\n",
       "    </tr>\n",
       "    <tr>\n",
       "      <th>25%</th>\n",
       "      <td>4345.5000</td>\n",
       "      <td>2011-07-04 00:00:00</td>\n",
       "      <td>NaN</td>\n",
       "      <td>2011.000000</td>\n",
       "      <td>4.000000</td>\n",
       "      <td>6.000000</td>\n",
       "      <td>0.000000</td>\n",
       "      <td>NaN</td>\n",
       "      <td>0.000000</td>\n",
       "      <td>NaN</td>\n",
       "      <td>0.340000</td>\n",
       "      <td>0.333300</td>\n",
       "      <td>0.480000</td>\n",
       "      <td>0.104500</td>\n",
       "      <td>4.000000</td>\n",
       "      <td>34.000000</td>\n",
       "      <td>40.000000</td>\n",
       "    </tr>\n",
       "    <tr>\n",
       "      <th>50%</th>\n",
       "      <td>8690.0000</td>\n",
       "      <td>2012-01-02 00:00:00</td>\n",
       "      <td>NaN</td>\n",
       "      <td>2012.000000</td>\n",
       "      <td>7.000000</td>\n",
       "      <td>12.000000</td>\n",
       "      <td>0.000000</td>\n",
       "      <td>NaN</td>\n",
       "      <td>1.000000</td>\n",
       "      <td>NaN</td>\n",
       "      <td>0.500000</td>\n",
       "      <td>0.484800</td>\n",
       "      <td>0.630000</td>\n",
       "      <td>0.194000</td>\n",
       "      <td>17.000000</td>\n",
       "      <td>115.000000</td>\n",
       "      <td>142.000000</td>\n",
       "    </tr>\n",
       "    <tr>\n",
       "      <th>75%</th>\n",
       "      <td>13034.5000</td>\n",
       "      <td>2012-07-02 00:00:00</td>\n",
       "      <td>NaN</td>\n",
       "      <td>2012.000000</td>\n",
       "      <td>10.000000</td>\n",
       "      <td>18.000000</td>\n",
       "      <td>0.000000</td>\n",
       "      <td>NaN</td>\n",
       "      <td>1.000000</td>\n",
       "      <td>NaN</td>\n",
       "      <td>0.660000</td>\n",
       "      <td>0.621200</td>\n",
       "      <td>0.780000</td>\n",
       "      <td>0.253700</td>\n",
       "      <td>48.000000</td>\n",
       "      <td>220.000000</td>\n",
       "      <td>281.000000</td>\n",
       "    </tr>\n",
       "    <tr>\n",
       "      <th>max</th>\n",
       "      <td>17379.0000</td>\n",
       "      <td>2012-12-31 00:00:00</td>\n",
       "      <td>NaN</td>\n",
       "      <td>2012.000000</td>\n",
       "      <td>12.000000</td>\n",
       "      <td>23.000000</td>\n",
       "      <td>1.000000</td>\n",
       "      <td>NaN</td>\n",
       "      <td>1.000000</td>\n",
       "      <td>NaN</td>\n",
       "      <td>1.000000</td>\n",
       "      <td>1.000000</td>\n",
       "      <td>1.000000</td>\n",
       "      <td>0.850700</td>\n",
       "      <td>367.000000</td>\n",
       "      <td>886.000000</td>\n",
       "      <td>977.000000</td>\n",
       "    </tr>\n",
       "    <tr>\n",
       "      <th>std</th>\n",
       "      <td>5017.0295</td>\n",
       "      <td>NaN</td>\n",
       "      <td>NaN</td>\n",
       "      <td>0.500008</td>\n",
       "      <td>3.438776</td>\n",
       "      <td>6.914405</td>\n",
       "      <td>0.167165</td>\n",
       "      <td>NaN</td>\n",
       "      <td>0.465431</td>\n",
       "      <td>NaN</td>\n",
       "      <td>0.192556</td>\n",
       "      <td>0.171850</td>\n",
       "      <td>0.192930</td>\n",
       "      <td>0.122340</td>\n",
       "      <td>49.305030</td>\n",
       "      <td>151.357286</td>\n",
       "      <td>181.387599</td>\n",
       "    </tr>\n",
       "  </tbody>\n",
       "</table>\n",
       "</div>"
      ],
      "text/plain": [
       "           instant                         dteday season            yr  \\\n",
       "count   17379.0000                          17379  17379  17379.000000   \n",
       "unique         NaN                            NaN      4           NaN   \n",
       "top            NaN                            NaN   Fall           NaN   \n",
       "freq           NaN                            NaN   4496           NaN   \n",
       "mean     8690.0000  2012-01-02 04:08:34.552045568    NaN   2011.502561   \n",
       "min         1.0000            2011-01-01 00:00:00    NaN   2011.000000   \n",
       "25%      4345.5000            2011-07-04 00:00:00    NaN   2011.000000   \n",
       "50%      8690.0000            2012-01-02 00:00:00    NaN   2012.000000   \n",
       "75%     13034.5000            2012-07-02 00:00:00    NaN   2012.000000   \n",
       "max     17379.0000            2012-12-31 00:00:00    NaN   2012.000000   \n",
       "std      5017.0295                            NaN    NaN      0.500008   \n",
       "\n",
       "                mnth            hr       holiday weekday    workingday  \\\n",
       "count   17379.000000  17379.000000  17379.000000   17379  17379.000000   \n",
       "unique           NaN           NaN           NaN       7           NaN   \n",
       "top              NaN           NaN           NaN   Sabtu           NaN   \n",
       "freq             NaN           NaN           NaN    2512           NaN   \n",
       "mean        6.537775     11.546752      0.028770     NaN      0.682721   \n",
       "min         1.000000      0.000000      0.000000     NaN      0.000000   \n",
       "25%         4.000000      6.000000      0.000000     NaN      0.000000   \n",
       "50%         7.000000     12.000000      0.000000     NaN      1.000000   \n",
       "75%        10.000000     18.000000      0.000000     NaN      1.000000   \n",
       "max        12.000000     23.000000      1.000000     NaN      1.000000   \n",
       "std         3.438776      6.914405      0.167165     NaN      0.465431   \n",
       "\n",
       "       weathersit          temp         atemp           hum     windspeed  \\\n",
       "count       17379  17379.000000  17379.000000  17379.000000  17379.000000   \n",
       "unique          4           NaN           NaN           NaN           NaN   \n",
       "top         Clear           NaN           NaN           NaN           NaN   \n",
       "freq        11413           NaN           NaN           NaN           NaN   \n",
       "mean          NaN      0.496987      0.475775      0.627229      0.190098   \n",
       "min           NaN      0.020000      0.000000      0.000000      0.000000   \n",
       "25%           NaN      0.340000      0.333300      0.480000      0.104500   \n",
       "50%           NaN      0.500000      0.484800      0.630000      0.194000   \n",
       "75%           NaN      0.660000      0.621200      0.780000      0.253700   \n",
       "max           NaN      1.000000      1.000000      1.000000      0.850700   \n",
       "std           NaN      0.192556      0.171850      0.192930      0.122340   \n",
       "\n",
       "              casual    registered           cnt  \n",
       "count   17379.000000  17379.000000  17379.000000  \n",
       "unique           NaN           NaN           NaN  \n",
       "top              NaN           NaN           NaN  \n",
       "freq             NaN           NaN           NaN  \n",
       "mean       35.676218    153.786869    189.463088  \n",
       "min         0.000000      0.000000      1.000000  \n",
       "25%         4.000000     34.000000     40.000000  \n",
       "50%        17.000000    115.000000    142.000000  \n",
       "75%        48.000000    220.000000    281.000000  \n",
       "max       367.000000    886.000000    977.000000  \n",
       "std        49.305030    151.357286    181.387599  "
      ]
     },
     "execution_count": 39,
     "metadata": {},
     "output_type": "execute_result"
    }
   ],
   "source": [
    "hour_df.describe(include=\"all\")"
   ]
  },
  {
   "cell_type": "code",
   "execution_count": 40,
   "id": "528c64b6",
   "metadata": {},
   "outputs": [
    {
     "data": {
      "text/html": [
       "<div>\n",
       "<style scoped>\n",
       "    .dataframe tbody tr th:only-of-type {\n",
       "        vertical-align: middle;\n",
       "    }\n",
       "\n",
       "    .dataframe tbody tr th {\n",
       "        vertical-align: top;\n",
       "    }\n",
       "\n",
       "    .dataframe thead th {\n",
       "        text-align: right;\n",
       "    }\n",
       "</style>\n",
       "<table border=\"1\" class=\"dataframe\">\n",
       "  <thead>\n",
       "    <tr style=\"text-align: right;\">\n",
       "      <th></th>\n",
       "      <th></th>\n",
       "      <th>cnt</th>\n",
       "    </tr>\n",
       "    <tr>\n",
       "      <th>season</th>\n",
       "      <th>yr</th>\n",
       "      <th></th>\n",
       "    </tr>\n",
       "  </thead>\n",
       "  <tbody>\n",
       "    <tr>\n",
       "      <th>Fall</th>\n",
       "      <th>2012</th>\n",
       "      <td>641479</td>\n",
       "    </tr>\n",
       "    <tr>\n",
       "      <th>Summer</th>\n",
       "      <th>2012</th>\n",
       "      <td>571273</td>\n",
       "    </tr>\n",
       "    <tr>\n",
       "      <th>Winter</th>\n",
       "      <th>2012</th>\n",
       "      <td>515476</td>\n",
       "    </tr>\n",
       "    <tr>\n",
       "      <th>Fall</th>\n",
       "      <th>2011</th>\n",
       "      <td>419650</td>\n",
       "    </tr>\n",
       "    <tr>\n",
       "      <th>Summer</th>\n",
       "      <th>2011</th>\n",
       "      <td>347316</td>\n",
       "    </tr>\n",
       "    <tr>\n",
       "      <th>Winter</th>\n",
       "      <th>2011</th>\n",
       "      <td>326137</td>\n",
       "    </tr>\n",
       "    <tr>\n",
       "      <th rowspan=\"2\" valign=\"top\">Spring</th>\n",
       "      <th>2012</th>\n",
       "      <td>321348</td>\n",
       "    </tr>\n",
       "    <tr>\n",
       "      <th>2011</th>\n",
       "      <td>150000</td>\n",
       "    </tr>\n",
       "  </tbody>\n",
       "</table>\n",
       "</div>"
      ],
      "text/plain": [
       "                cnt\n",
       "season yr          \n",
       "Fall   2012  641479\n",
       "Summer 2012  571273\n",
       "Winter 2012  515476\n",
       "Fall   2011  419650\n",
       "Summer 2011  347316\n",
       "Winter 2011  326137\n",
       "Spring 2012  321348\n",
       "       2011  150000"
      ]
     },
     "execution_count": 40,
     "metadata": {},
     "output_type": "execute_result"
    }
   ],
   "source": [
    "#mengetahui jumlah pengguna per-jam (hour) berdasarkan musim dan tahun\n",
    "season_hour = hour_df.groupby(by=[\"season\",\"yr\"]).agg({\n",
    "    \"cnt\": \"sum\"\n",
    "}).sort_values(by=\"cnt\", ascending=False)\n",
    "\n",
    "season_hour"
   ]
  },
  {
   "cell_type": "code",
   "execution_count": 41,
   "id": "1a60eee3",
   "metadata": {},
   "outputs": [
    {
     "data": {
      "text/html": [
       "<div>\n",
       "<style scoped>\n",
       "    .dataframe tbody tr th:only-of-type {\n",
       "        vertical-align: middle;\n",
       "    }\n",
       "\n",
       "    .dataframe tbody tr th {\n",
       "        vertical-align: top;\n",
       "    }\n",
       "\n",
       "    .dataframe thead th {\n",
       "        text-align: right;\n",
       "    }\n",
       "</style>\n",
       "<table border=\"1\" class=\"dataframe\">\n",
       "  <thead>\n",
       "    <tr style=\"text-align: right;\">\n",
       "      <th></th>\n",
       "      <th></th>\n",
       "      <th>cnt</th>\n",
       "    </tr>\n",
       "    <tr>\n",
       "      <th>weathersit</th>\n",
       "      <th>yr</th>\n",
       "      <th></th>\n",
       "    </tr>\n",
       "  </thead>\n",
       "  <tbody>\n",
       "    <tr>\n",
       "      <th rowspan=\"2\" valign=\"top\">Clear</th>\n",
       "      <th>2012</th>\n",
       "      <td>1463120</td>\n",
       "    </tr>\n",
       "    <tr>\n",
       "      <th>2011</th>\n",
       "      <td>875053</td>\n",
       "    </tr>\n",
       "    <tr>\n",
       "      <th rowspan=\"2\" valign=\"top\">Mist</th>\n",
       "      <th>2012</th>\n",
       "      <td>495433</td>\n",
       "    </tr>\n",
       "    <tr>\n",
       "      <th>2011</th>\n",
       "      <td>300519</td>\n",
       "    </tr>\n",
       "    <tr>\n",
       "      <th rowspan=\"2\" valign=\"top\">Light Rain</th>\n",
       "      <th>2012</th>\n",
       "      <td>90836</td>\n",
       "    </tr>\n",
       "    <tr>\n",
       "      <th>2011</th>\n",
       "      <td>67495</td>\n",
       "    </tr>\n",
       "    <tr>\n",
       "      <th rowspan=\"2\" valign=\"top\">Heavy Rain</th>\n",
       "      <th>2012</th>\n",
       "      <td>187</td>\n",
       "    </tr>\n",
       "    <tr>\n",
       "      <th>2011</th>\n",
       "      <td>36</td>\n",
       "    </tr>\n",
       "  </tbody>\n",
       "</table>\n",
       "</div>"
      ],
      "text/plain": [
       "                     cnt\n",
       "weathersit yr           \n",
       "Clear      2012  1463120\n",
       "           2011   875053\n",
       "Mist       2012   495433\n",
       "           2011   300519\n",
       "Light Rain 2012    90836\n",
       "           2011    67495\n",
       "Heavy Rain 2012      187\n",
       "           2011       36"
      ]
     },
     "execution_count": 41,
     "metadata": {},
     "output_type": "execute_result"
    }
   ],
   "source": [
    "#Mengetahui jumlah penggunaan per-jam(hour) berdasarkan cuaca dan tahun\n",
    "cuaca_hour = hour_df.groupby(by=[\"weathersit\",\"yr\"]).agg({\n",
    "    \"cnt\": \"sum\"\n",
    "}).sort_values(by=\"cnt\",ascending=False)\n",
    "\n",
    "cuaca_hour"
   ]
  },
  {
   "cell_type": "code",
   "execution_count": 42,
   "id": "fa04fb0a",
   "metadata": {},
   "outputs": [
    {
     "data": {
      "text/html": [
       "<div>\n",
       "<style scoped>\n",
       "    .dataframe tbody tr th:only-of-type {\n",
       "        vertical-align: middle;\n",
       "    }\n",
       "\n",
       "    .dataframe tbody tr th {\n",
       "        vertical-align: top;\n",
       "    }\n",
       "\n",
       "    .dataframe thead th {\n",
       "        text-align: right;\n",
       "    }\n",
       "</style>\n",
       "<table border=\"1\" class=\"dataframe\">\n",
       "  <thead>\n",
       "    <tr style=\"text-align: right;\">\n",
       "      <th></th>\n",
       "      <th>casual</th>\n",
       "      <th>registered</th>\n",
       "    </tr>\n",
       "    <tr>\n",
       "      <th>yr</th>\n",
       "      <th></th>\n",
       "      <th></th>\n",
       "    </tr>\n",
       "  </thead>\n",
       "  <tbody>\n",
       "    <tr>\n",
       "      <th>2011</th>\n",
       "      <td>247252</td>\n",
       "      <td>995851</td>\n",
       "    </tr>\n",
       "    <tr>\n",
       "      <th>2012</th>\n",
       "      <td>372765</td>\n",
       "      <td>1676811</td>\n",
       "    </tr>\n",
       "  </tbody>\n",
       "</table>\n",
       "</div>"
      ],
      "text/plain": [
       "      casual  registered\n",
       "yr                      \n",
       "2011  247252      995851\n",
       "2012  372765     1676811"
      ]
     },
     "execution_count": 42,
     "metadata": {},
     "output_type": "execute_result"
    }
   ],
   "source": [
    "#mengetahui jumlah pengguna per-jam (hour) berdasarkan tipe penggunanya (casual & registered)\n",
    "tipe_pengguna_hour = hour_df.groupby(by=\"yr\").agg({\n",
    "    \"casual\": \"sum\",\n",
    "    \"registered\": \"sum\"\n",
    "}).sort_values(by=[\"casual\", \"registered\"], ascending=False)\n",
    "\n",
    "tipe_pengguna_hour.sample(2)"
   ]
  },
  {
   "cell_type": "code",
   "execution_count": 43,
   "id": "c826568b",
   "metadata": {},
   "outputs": [
    {
     "data": {
      "text/html": [
       "<div>\n",
       "<style scoped>\n",
       "    .dataframe tbody tr th:only-of-type {\n",
       "        vertical-align: middle;\n",
       "    }\n",
       "\n",
       "    .dataframe tbody tr th {\n",
       "        vertical-align: top;\n",
       "    }\n",
       "\n",
       "    .dataframe thead th {\n",
       "        text-align: right;\n",
       "    }\n",
       "</style>\n",
       "<table border=\"1\" class=\"dataframe\">\n",
       "  <thead>\n",
       "    <tr style=\"text-align: right;\">\n",
       "      <th></th>\n",
       "      <th>cnt</th>\n",
       "    </tr>\n",
       "    <tr>\n",
       "      <th>hr</th>\n",
       "      <th></th>\n",
       "    </tr>\n",
       "  </thead>\n",
       "  <tbody>\n",
       "    <tr>\n",
       "      <th>17</th>\n",
       "      <td>336860</td>\n",
       "    </tr>\n",
       "    <tr>\n",
       "      <th>18</th>\n",
       "      <td>309772</td>\n",
       "    </tr>\n",
       "    <tr>\n",
       "      <th>8</th>\n",
       "      <td>261001</td>\n",
       "    </tr>\n",
       "    <tr>\n",
       "      <th>16</th>\n",
       "      <td>227748</td>\n",
       "    </tr>\n",
       "    <tr>\n",
       "      <th>19</th>\n",
       "      <td>226789</td>\n",
       "    </tr>\n",
       "    <tr>\n",
       "      <th>13</th>\n",
       "      <td>184919</td>\n",
       "    </tr>\n",
       "    <tr>\n",
       "      <th>12</th>\n",
       "      <td>184414</td>\n",
       "    </tr>\n",
       "    <tr>\n",
       "      <th>15</th>\n",
       "      <td>183149</td>\n",
       "    </tr>\n",
       "    <tr>\n",
       "      <th>14</th>\n",
       "      <td>175652</td>\n",
       "    </tr>\n",
       "    <tr>\n",
       "      <th>20</th>\n",
       "      <td>164550</td>\n",
       "    </tr>\n",
       "    <tr>\n",
       "      <th>9</th>\n",
       "      <td>159438</td>\n",
       "    </tr>\n",
       "    <tr>\n",
       "      <th>7</th>\n",
       "      <td>154171</td>\n",
       "    </tr>\n",
       "    <tr>\n",
       "      <th>11</th>\n",
       "      <td>151320</td>\n",
       "    </tr>\n",
       "    <tr>\n",
       "      <th>10</th>\n",
       "      <td>126257</td>\n",
       "    </tr>\n",
       "    <tr>\n",
       "      <th>21</th>\n",
       "      <td>125445</td>\n",
       "    </tr>\n",
       "    <tr>\n",
       "      <th>22</th>\n",
       "      <td>95612</td>\n",
       "    </tr>\n",
       "    <tr>\n",
       "      <th>23</th>\n",
       "      <td>63941</td>\n",
       "    </tr>\n",
       "    <tr>\n",
       "      <th>6</th>\n",
       "      <td>55132</td>\n",
       "    </tr>\n",
       "    <tr>\n",
       "      <th>0</th>\n",
       "      <td>39130</td>\n",
       "    </tr>\n",
       "    <tr>\n",
       "      <th>1</th>\n",
       "      <td>24164</td>\n",
       "    </tr>\n",
       "    <tr>\n",
       "      <th>2</th>\n",
       "      <td>16352</td>\n",
       "    </tr>\n",
       "    <tr>\n",
       "      <th>5</th>\n",
       "      <td>14261</td>\n",
       "    </tr>\n",
       "    <tr>\n",
       "      <th>3</th>\n",
       "      <td>8174</td>\n",
       "    </tr>\n",
       "    <tr>\n",
       "      <th>4</th>\n",
       "      <td>4428</td>\n",
       "    </tr>\n",
       "  </tbody>\n",
       "</table>\n",
       "</div>"
      ],
      "text/plain": [
       "       cnt\n",
       "hr        \n",
       "17  336860\n",
       "18  309772\n",
       "8   261001\n",
       "16  227748\n",
       "19  226789\n",
       "13  184919\n",
       "12  184414\n",
       "15  183149\n",
       "14  175652\n",
       "20  164550\n",
       "9   159438\n",
       "7   154171\n",
       "11  151320\n",
       "10  126257\n",
       "21  125445\n",
       "22   95612\n",
       "23   63941\n",
       "6    55132\n",
       "0    39130\n",
       "1    24164\n",
       "2    16352\n",
       "5    14261\n",
       "3     8174\n",
       "4     4428"
      ]
     },
     "execution_count": 43,
     "metadata": {},
     "output_type": "execute_result"
    }
   ],
   "source": [
    "#Mengetahui Pada jam berapa Saja Jumlah Penggunaan paling banyak\n",
    "jam = hour_df.groupby(by=\"hr\").agg({\n",
    "    \"cnt\": \"sum\"\n",
    "}).sort_values(by=\"cnt\", ascending=False)\n",
    "\n",
    "jam"
   ]
  },
  {
   "cell_type": "code",
   "execution_count": 44,
   "id": "ddee999a",
   "metadata": {},
   "outputs": [
    {
     "data": {
      "text/html": [
       "<div>\n",
       "<style scoped>\n",
       "    .dataframe tbody tr th:only-of-type {\n",
       "        vertical-align: middle;\n",
       "    }\n",
       "\n",
       "    .dataframe tbody tr th {\n",
       "        vertical-align: top;\n",
       "    }\n",
       "\n",
       "    .dataframe thead th {\n",
       "        text-align: right;\n",
       "    }\n",
       "</style>\n",
       "<table border=\"1\" class=\"dataframe\">\n",
       "  <thead>\n",
       "    <tr style=\"text-align: right;\">\n",
       "      <th></th>\n",
       "      <th>dteday</th>\n",
       "      <th>tahun</th>\n",
       "      <th>jumlah_pengguna</th>\n",
       "    </tr>\n",
       "  </thead>\n",
       "  <tbody>\n",
       "    <tr>\n",
       "      <th>22</th>\n",
       "      <td>2012-11</td>\n",
       "      <td>[2012]</td>\n",
       "      <td>152664</td>\n",
       "    </tr>\n",
       "    <tr>\n",
       "      <th>19</th>\n",
       "      <td>2012-08</td>\n",
       "      <td>[2012]</td>\n",
       "      <td>214503</td>\n",
       "    </tr>\n",
       "    <tr>\n",
       "      <th>21</th>\n",
       "      <td>2012-10</td>\n",
       "      <td>[2012]</td>\n",
       "      <td>198841</td>\n",
       "    </tr>\n",
       "    <tr>\n",
       "      <th>13</th>\n",
       "      <td>2012-02</td>\n",
       "      <td>[2012]</td>\n",
       "      <td>103137</td>\n",
       "    </tr>\n",
       "    <tr>\n",
       "      <th>16</th>\n",
       "      <td>2012-05</td>\n",
       "      <td>[2012]</td>\n",
       "      <td>195865</td>\n",
       "    </tr>\n",
       "    <tr>\n",
       "      <th>18</th>\n",
       "      <td>2012-07</td>\n",
       "      <td>[2012]</td>\n",
       "      <td>203607</td>\n",
       "    </tr>\n",
       "    <tr>\n",
       "      <th>23</th>\n",
       "      <td>2012-12</td>\n",
       "      <td>[2012]</td>\n",
       "      <td>123713</td>\n",
       "    </tr>\n",
       "    <tr>\n",
       "      <th>5</th>\n",
       "      <td>2011-06</td>\n",
       "      <td>[2011]</td>\n",
       "      <td>143512</td>\n",
       "    </tr>\n",
       "    <tr>\n",
       "      <th>4</th>\n",
       "      <td>2011-05</td>\n",
       "      <td>[2011]</td>\n",
       "      <td>135821</td>\n",
       "    </tr>\n",
       "    <tr>\n",
       "      <th>9</th>\n",
       "      <td>2011-10</td>\n",
       "      <td>[2011]</td>\n",
       "      <td>123511</td>\n",
       "    </tr>\n",
       "  </tbody>\n",
       "</table>\n",
       "</div>"
      ],
      "text/plain": [
       "     dteday   tahun  jumlah_pengguna\n",
       "22  2012-11  [2012]           152664\n",
       "19  2012-08  [2012]           214503\n",
       "21  2012-10  [2012]           198841\n",
       "13  2012-02  [2012]           103137\n",
       "16  2012-05  [2012]           195865\n",
       "18  2012-07  [2012]           203607\n",
       "23  2012-12  [2012]           123713\n",
       "5   2011-06  [2011]           143512\n",
       "4   2011-05  [2011]           135821\n",
       "9   2011-10  [2011]           123511"
      ]
     },
     "execution_count": 44,
     "metadata": {},
     "output_type": "execute_result"
    }
   ],
   "source": [
    "# Merubah Format pada dteday menjadi tahun dan bulan\n",
    "pengguna_bulanan_hour = hour_df.resample(rule='M', on='dteday').agg({\n",
    "    'yr': 'unique',\n",
    "    'cnt': 'sum'\n",
    "})\n",
    "\n",
    "pengguna_bulanan_hour.index = pengguna_bulanan_hour.index.strftime('%Y-%m')\n",
    "pengguna_bulanan_hour = pengguna_bulanan_hour.reset_index()\n",
    "pengguna_bulanan_hour.rename(columns={\n",
    "    'yr': 'tahun',\n",
    "    'cnt': 'jumlah_pengguna'\n",
    "}, inplace=True)\n",
    "\n",
    "pengguna_bulanan_hour.sample(10)"
   ]
  },
  {
   "cell_type": "code",
   "execution_count": 45,
   "id": "7c863d61",
   "metadata": {},
   "outputs": [],
   "source": [
    "#Mengubah Format dteday Menjadi Bulan\n",
    "pengguna_bulanan_hour = hour_df.resample(rule='M', on='dteday').agg({\n",
    "    'yr': 'unique',\n",
    "    'cnt': 'sum'\n",
    "})\n",
    "\n",
    "pengguna_bulanan_hour.index = pengguna_bulanan_hour.index.strftime('%B')\n",
    "pengguna_bulanan_hour = pengguna_bulanan_hour.reset_index()\n",
    "pengguna_bulanan_hour.rename(columns={\n",
    "    'yr': 'tahun',\n",
    "    'cnt': 'jumlah_pengguna'\n",
    "}, inplace=True)"
   ]
  },
  {
   "cell_type": "code",
   "execution_count": 46,
   "id": "f351455a",
   "metadata": {},
   "outputs": [
    {
     "data": {
      "text/html": [
       "<div>\n",
       "<style scoped>\n",
       "    .dataframe tbody tr th:only-of-type {\n",
       "        vertical-align: middle;\n",
       "    }\n",
       "\n",
       "    .dataframe tbody tr th {\n",
       "        vertical-align: top;\n",
       "    }\n",
       "\n",
       "    .dataframe thead th {\n",
       "        text-align: right;\n",
       "    }\n",
       "</style>\n",
       "<table border=\"1\" class=\"dataframe\">\n",
       "  <thead>\n",
       "    <tr style=\"text-align: right;\">\n",
       "      <th></th>\n",
       "      <th>dteday</th>\n",
       "      <th>tahun</th>\n",
       "      <th>jumlah_pengguna</th>\n",
       "    </tr>\n",
       "  </thead>\n",
       "  <tbody>\n",
       "    <tr>\n",
       "      <th>0</th>\n",
       "      <td>January</td>\n",
       "      <td>[2011]</td>\n",
       "      <td>38189</td>\n",
       "    </tr>\n",
       "    <tr>\n",
       "      <th>1</th>\n",
       "      <td>February</td>\n",
       "      <td>[2011]</td>\n",
       "      <td>48215</td>\n",
       "    </tr>\n",
       "    <tr>\n",
       "      <th>2</th>\n",
       "      <td>March</td>\n",
       "      <td>[2011]</td>\n",
       "      <td>64045</td>\n",
       "    </tr>\n",
       "    <tr>\n",
       "      <th>3</th>\n",
       "      <td>April</td>\n",
       "      <td>[2011]</td>\n",
       "      <td>94870</td>\n",
       "    </tr>\n",
       "    <tr>\n",
       "      <th>4</th>\n",
       "      <td>May</td>\n",
       "      <td>[2011]</td>\n",
       "      <td>135821</td>\n",
       "    </tr>\n",
       "  </tbody>\n",
       "</table>\n",
       "</div>"
      ],
      "text/plain": [
       "     dteday   tahun  jumlah_pengguna\n",
       "0   January  [2011]            38189\n",
       "1  February  [2011]            48215\n",
       "2     March  [2011]            64045\n",
       "3     April  [2011]            94870\n",
       "4       May  [2011]           135821"
      ]
     },
     "execution_count": 46,
     "metadata": {},
     "output_type": "execute_result"
    }
   ],
   "source": [
    "pengguna_bulanan_2011_hour = pengguna_bulanan_hour[pengguna_bulanan_hour['tahun'] == 2011]\n",
    "pengguna_bulanan_2011_hour.head()"
   ]
  },
  {
   "cell_type": "code",
   "execution_count": 47,
   "id": "81cd6bd9",
   "metadata": {},
   "outputs": [
    {
     "data": {
      "text/html": [
       "<div>\n",
       "<style scoped>\n",
       "    .dataframe tbody tr th:only-of-type {\n",
       "        vertical-align: middle;\n",
       "    }\n",
       "\n",
       "    .dataframe tbody tr th {\n",
       "        vertical-align: top;\n",
       "    }\n",
       "\n",
       "    .dataframe thead th {\n",
       "        text-align: right;\n",
       "    }\n",
       "</style>\n",
       "<table border=\"1\" class=\"dataframe\">\n",
       "  <thead>\n",
       "    <tr style=\"text-align: right;\">\n",
       "      <th></th>\n",
       "      <th>dteday</th>\n",
       "      <th>tahun</th>\n",
       "      <th>jumlah_pengguna</th>\n",
       "    </tr>\n",
       "  </thead>\n",
       "  <tbody>\n",
       "    <tr>\n",
       "      <th>12</th>\n",
       "      <td>January</td>\n",
       "      <td>[2012]</td>\n",
       "      <td>96744</td>\n",
       "    </tr>\n",
       "    <tr>\n",
       "      <th>13</th>\n",
       "      <td>February</td>\n",
       "      <td>[2012]</td>\n",
       "      <td>103137</td>\n",
       "    </tr>\n",
       "    <tr>\n",
       "      <th>14</th>\n",
       "      <td>March</td>\n",
       "      <td>[2012]</td>\n",
       "      <td>164875</td>\n",
       "    </tr>\n",
       "    <tr>\n",
       "      <th>15</th>\n",
       "      <td>April</td>\n",
       "      <td>[2012]</td>\n",
       "      <td>174224</td>\n",
       "    </tr>\n",
       "    <tr>\n",
       "      <th>16</th>\n",
       "      <td>May</td>\n",
       "      <td>[2012]</td>\n",
       "      <td>195865</td>\n",
       "    </tr>\n",
       "  </tbody>\n",
       "</table>\n",
       "</div>"
      ],
      "text/plain": [
       "      dteday   tahun  jumlah_pengguna\n",
       "12   January  [2012]            96744\n",
       "13  February  [2012]           103137\n",
       "14     March  [2012]           164875\n",
       "15     April  [2012]           174224\n",
       "16       May  [2012]           195865"
      ]
     },
     "execution_count": 47,
     "metadata": {},
     "output_type": "execute_result"
    }
   ],
   "source": [
    "pengguna_bulanan_2012_hour = pengguna_bulanan_hour[pengguna_bulanan_hour['tahun'] == 2012]\n",
    "pengguna_bulanan_2012_hour.head()"
   ]
  },
  {
   "cell_type": "markdown",
   "id": "4a401246",
   "metadata": {},
   "source": [
    "# Visualisasi dan Explanatory Analysis"
   ]
  },
  {
   "cell_type": "markdown",
   "id": "0a56a84c",
   "metadata": {},
   "source": [
    "### Pertanyaan 01 : Bagaimana Penggunaan Bike Sharing Berdasarkan Musim (Season) pada Penggunaan per-hari (Day) dan penggunaan per-jam (Hour)?"
   ]
  },
  {
   "cell_type": "markdown",
   "id": "ad0eeee5",
   "metadata": {},
   "source": [
    "Penggunaan Bike Sharing Berdasarkan Musim (Season) Pada penggunaan Per-Hari (Day)"
   ]
  },
  {
   "cell_type": "code",
   "execution_count": 48,
   "id": "394135c1",
   "metadata": {},
   "outputs": [
    {
     "data": {
      "image/png": "[encoded data removed]",
      "text/plain": [
       "<Figure size 640x480 with 1 Axes>"
      ]
     },
     "metadata": {},
     "output_type": "display_data"
    }
   ],
   "source": [
    "season_order = season.groupby('season')['cnt'].sum().sort_values(ascending=False).index\n",
    "sns.barplot(data=season, x='season', y='cnt', hue='yr',order=season_order, errorbar=None)\n",
    "for p in plt.gca().patches:\n",
    "    plt.gca().annotate(f'{int(p.get_height())}', (p.get_x() + p.get_width() / 2., p.get_height()),\n",
    "                 ha='center', va='baseline', fontsize=10, color='black', xytext=(0, 5),\n",
    "                 textcoords='offset points')\n",
    "plt.title('Penggunaan Bike Sharing Berdasarkan Musim per-hari(Day)')\n",
    "plt.xlabel('Musim')\n",
    "plt.ylabel('Total Pengguna')\n",
    "plt.show()"
   ]
  },
  {
   "cell_type": "markdown",
   "id": "452e0a24",
   "metadata": {},
   "source": [
    "Penggunaan Bike Sharing Berdasarkan Musim (Season) Pada penggunaan Per-Jam (Hour)"
   ]
  },
  {
   "cell_type": "code",
   "execution_count": 49,
   "id": "f0ab252e",
   "metadata": {},
   "outputs": [
    {
     "data": {
      "image/png": "[encoded data removed]",
      "text/plain": [
       "<Figure size 640x480 with 1 Axes>"
      ]
     },
     "metadata": {},
     "output_type": "display_data"
    }
   ],
   "source": [
    "season_order_hour = season_hour.groupby('season')['cnt'].sum().sort_values(ascending=False).index\n",
    "sns.barplot(data=season_hour, x='season', y='cnt', hue='yr',order=season_order_hour, errorbar=None)\n",
    "for p in plt.gca().patches:\n",
    "    plt.gca().annotate(f'{int(p.get_height())}', (p.get_x() + p.get_width() / 2., p.get_height()),\n",
    "                 ha='center', va='baseline', fontsize=10, color='black', xytext=(0, 5),\n",
    "                 textcoords='offset points')\n",
    "plt.title('Penggunaan Bike Sharing Berdasarkan Musim per-jam (Hour)')\n",
    "plt.xlabel('Musim')\n",
    "plt.ylabel('Total Pengguna')\n",
    "plt.show()"
   ]
  },
  {
   "cell_type": "markdown",
   "id": "3723ff60",
   "metadata": {},
   "source": [
    "### Pertanyaan 02 : Bagaimana Penggunaan Bike Sharing Berdasarkan Cuaca (Weathersit) pada Penggunaan per-hari (Day) dan per-jam (Hour)?"
   ]
  },
  {
   "cell_type": "markdown",
   "id": "c8010de1",
   "metadata": {},
   "source": [
    "Penggunaan Bike Sharing Berdasarkan Cuaca (Weathersit) Pada penggunaan Per-Hari (Day)"
   ]
  },
  {
   "cell_type": "code",
   "execution_count": 50,
   "id": "459a2e5f",
   "metadata": {},
   "outputs": [
    {
     "data": {
      "image/png": "[encoded data removed]",
      "text/plain": [
       "<Figure size 640x480 with 1 Axes>"
      ]
     },
     "metadata": {},
     "output_type": "display_data"
    }
   ],
   "source": [
    "weathersit_order = cuaca.groupby('weathersit')['cnt'].sum().sort_values(ascending=False).index\n",
    "sns.barplot(data=cuaca, x='weathersit', y='cnt', hue='yr',order=weathersit_order, errorbar=None)\n",
    "for p in plt.gca().patches:\n",
    "    plt.gca().annotate(f'{int(p.get_height())}', (p.get_x() + p.get_width() / 2., p.get_height()),\n",
    "                 ha='center', va='baseline', fontsize=10, color='black', xytext=(0, 5),\n",
    "                 textcoords='offset points')\n",
    "plt.title('Penggunaan Bike Sharing Berdasarkan Cuaca per-hari (Day)')\n",
    "plt.xlabel('Cuaca')\n",
    "plt.ylabel('Total Pengguna')\n",
    "plt.show()"
   ]
  },
  {
   "cell_type": "markdown",
   "id": "e01a5131",
   "metadata": {},
   "source": [
    "Penggunaan Bike Sharing Berdasarkan Cuaca (Weathersit) Pada penggunaan Per-Jam (Hour)"
   ]
  },
  {
   "cell_type": "code",
   "execution_count": 51,
   "id": "9a490586",
   "metadata": {},
   "outputs": [
    {
     "data": {
      "image/png": "[encoded data removed]",
      "text/plain": [
       "<Figure size 640x480 with 1 Axes>"
      ]
     },
     "metadata": {},
     "output_type": "display_data"
    }
   ],
   "source": [
    "weathersit_order_hour = cuaca_hour.groupby('weathersit')['cnt'].sum().sort_values(ascending=False).index\n",
    "sns.barplot(data=cuaca_hour, x='weathersit', y='cnt', hue='yr',order=weathersit_order_hour, errorbar=None)\n",
    "for p in plt.gca().patches:\n",
    "    plt.gca().annotate(f'{int(p.get_height())}', (p.get_x() + p.get_width() / 2., p.get_height()),\n",
    "                 ha='center', va='baseline', fontsize=10, color='black', xytext=(0, 5),\n",
    "                 textcoords='offset points')\n",
    "plt.title('Penggunaan Bike Sharing Berdasarkan Cuaca per-jam (Hour)')\n",
    "plt.xlabel('Cuaca')\n",
    "plt.ylabel('Total Pengguna')\n",
    "plt.show()"
   ]
  },
  {
   "cell_type": "markdown",
   "id": "f3b81c43",
   "metadata": {},
   "source": [
    "### Pertanyaan 03 : Bagaimana Segmentasi Penggunaan Bike Sharing Berdasarkan status pengguna (Casual dan Registered) pada Penggunaan per-hari (Day) dan per-jam (Hour)?"
   ]
  },
  {
   "cell_type": "markdown",
   "id": "72a9300e",
   "metadata": {},
   "source": [
    "Penggunaan Bike Sharing Berdasarkan tipe pengguna per-hari (day)"
   ]
  },
  {
   "cell_type": "code",
   "execution_count": 52,
   "id": "afe0bd8f",
   "metadata": {},
   "outputs": [
    {
     "data": {
      "image/png": "[encoded data removed]",
      "text/plain": [
       "<Figure size 1000x600 with 1 Axes>"
      ]
     },
     "metadata": {},
     "output_type": "display_data"
    }
   ],
   "source": [
    "# Mengonversi hasil grupby ke format yang cocok untuk Seaborn\n",
    "tipe = tipe.reset_index().melt(id_vars=['yr'], var_name='Type', value_name='Total')\n",
    "\n",
    "# Mengurutkan data berdasarkan total\n",
    "tipe = tipe.sort_values(by='Total', ascending=False)\n",
    "\n",
    "# Membuat bar plot\n",
    "plt.figure(figsize=(10, 6))\n",
    "sns.barplot(data=tipe, x='yr', y='Total', hue='Type', palette='pastel')\n",
    "for p in plt.gca().patches:\n",
    "    plt.gca().annotate(f'{int(p.get_height())}', (p.get_x() + p.get_width() / 2., p.get_height()),\n",
    "                 ha='center', va='baseline', fontsize=10, color='black', xytext=(0, 5),\n",
    "                 textcoords='offset points')\n",
    "plt.title('Pengguna Casual dan Registered per-hari (day) Tiap Tahun')\n",
    "plt.xlabel('Tahun')\n",
    "plt.ylabel('Jumlah Pengguna')\n",
    "plt.show()"
   ]
  },
  {
   "cell_type": "markdown",
   "id": "14a9eb62",
   "metadata": {},
   "source": [
    "Penggunaan Bike Sharing Berdasarkan tipe pengguna per-jam (hour)"
   ]
  },
  {
   "cell_type": "code",
   "execution_count": 53,
   "id": "f0f2aa3a",
   "metadata": {},
   "outputs": [
    {
     "data": {
      "image/png": "[encoded data removed]",
      "text/plain": [
       "<Figure size 1000x600 with 1 Axes>"
      ]
     },
     "metadata": {},
     "output_type": "display_data"
    }
   ],
   "source": [
    "# Mengonversi hasil grupby ke format yang cocok untuk Seaborn\n",
    "tipe_pengguna_hour = tipe_pengguna_hour.reset_index().melt(id_vars=['yr'], var_name='Type', value_name='Total')\n",
    "\n",
    "# Mengurutkan data berdasarkan total\n",
    "tipe_pengguna_hour = tipe_pengguna_hour.sort_values(by='Total', ascending=False)\n",
    "\n",
    "# Membuat bar plot\n",
    "plt.figure(figsize=(10, 6))\n",
    "sns.barplot(data=tipe_pengguna_hour, x='yr', y='Total', hue='Type', palette='pastel')\n",
    "for p in plt.gca().patches:\n",
    "    plt.gca().annotate(f'{int(p.get_height())}', (p.get_x() + p.get_width() / 2., p.get_height()),\n",
    "                 ha='center', va='baseline', fontsize=10, color='black', xytext=(0, 5),\n",
    "                 textcoords='offset points')\n",
    "plt.title('Pengguna Casual dan Registered per-jam (hour) Tiap Tahun')\n",
    "plt.xlabel('Tahun')\n",
    "plt.ylabel('Jumlah Pengguna')\n",
    "plt.show()"
   ]
  },
  {
   "cell_type": "markdown",
   "id": "8e16a736",
   "metadata": {},
   "source": [
    "### Pertanyaan 04 : Bagaimana Tren Penggunaan Bike Sharing Berdasarkan Bulan dan Hari Apa Saja Untuk Penggunaan Day dan Pada Jam Berapa Saja Penggunaan Paling Banyak pada penggunaan per-jam (Hour)?"
   ]
  },
  {
   "cell_type": "markdown",
   "id": "a3f628f0",
   "metadata": {},
   "source": [
    "Penggunaan Bike Sharing berdasarkan hari (day)"
   ]
  },
  {
   "cell_type": "code",
   "execution_count": 54,
   "id": "23b4c3bd",
   "metadata": {},
   "outputs": [
    {
     "name": "stderr",
     "output_type": "stream",
     "text": [
      "C:\\Users\\Arbud\\AppData\\Local\\Temp\\ipykernel_8328\\3673394101.py:3: FutureWarning: \n",
      "\n",
      "Passing `palette` without assigning `hue` is deprecated and will be removed in v0.14.0. Assign the `x` variable to `hue` and set `legend=False` for the same effect.\n",
      "\n",
      "  sns.barplot(data=hari, x='weekday', y='cnt',order=weekday_order, palette=colors_, errorbar=None)\n"
     ]
    },
    {
     "data": {
      "image/png": "[encoded data removed]",
      "text/plain": [
       "<Figure size 640x480 with 1 Axes>"
      ]
     },
     "metadata": {},
     "output_type": "display_data"
    }
   ],
   "source": [
    "colors_ = [\"#72BCD4\", \"#D3D3D3\", \"#D3D3D3\", \"#D3D3D3\", \"#D3D3D3\", \"#D3D3D3\", \"#D3D3D3\"]\n",
    "weekday_order = hari.groupby('weekday')['cnt'].sum().sort_values(ascending=False).index\n",
    "sns.barplot(data=hari, x='weekday', y='cnt',order=weekday_order, palette=colors_, errorbar=None)\n",
    "for p in plt.gca().patches:\n",
    "    plt.gca().annotate(f'{int(p.get_height())}', (p.get_x() + p.get_width() / 2., p.get_height()),\n",
    "                 ha='center', va='baseline', fontsize=10, color='black', xytext=(0, 5),\n",
    "                 textcoords='offset points')\n",
    "plt.title('Pengguna Bike Sharing Berdasarkan Hari (day)')\n",
    "plt.xlabel('Hari')\n",
    "plt.ylabel('Jumlah Pengguna')\n",
    "plt.xticks(rotation=45)\n",
    "plt.show()"
   ]
  },
  {
   "cell_type": "markdown",
   "id": "ded405d0",
   "metadata": {},
   "source": [
    "Penggunaan Bike Sharing per-hari (Day) berdasarkan Bulan pada tahun 2011"
   ]
  },
  {
   "cell_type": "code",
   "execution_count": 55,
   "id": "332e6375",
   "metadata": {},
   "outputs": [
    {
     "data": {
      "image/png": "[encoded data removed]",
      "text/plain": [
       "<Figure size 1000x500 with 1 Axes>"
      ]
     },
     "metadata": {},
     "output_type": "display_data"
    }
   ],
   "source": [
    "plt.figure(figsize=(10, 5))\n",
    "plt.plot(pengguna_bulanan_2011['dteday'], pengguna_bulanan_2011['jumlah_pengguna'], marker='o', linewidth=2, color='#72BCD4')\n",
    "plt.title('Total Pengguna Bike Sharing Harian (Day) per Bulan (2011)', loc='center', fontsize=20)\n",
    "plt.xlabel('Bulan')\n",
    "plt.ylabel('Jumlah Pengguna')\n",
    "plt.xticks(rotation=45 , fontsize=10)\n",
    "plt.yticks(fontsize=10)\n",
    "plt.show()"
   ]
  },
  {
   "cell_type": "markdown",
   "id": "3dd8faf6",
   "metadata": {},
   "source": [
    "Penggunaan Bike Sharing per-hari (Day) berdasarkan Bulan pada tahun 2012"
   ]
  },
  {
   "cell_type": "code",
   "execution_count": 56,
   "id": "47441c8b",
   "metadata": {},
   "outputs": [
    {
     "data": {
      "image/png": "[encoded data removed]",
      "text/plain": [
       "<Figure size 1000x500 with 1 Axes>"
      ]
     },
     "metadata": {},
     "output_type": "display_data"
    }
   ],
   "source": [
    "plt.figure(figsize=(10, 5))\n",
    "plt.plot(pengguna_bulanan_2012['dteday'], pengguna_bulanan_2012['jumlah_pengguna'], marker='o', linewidth=2, color='#72BCD4')\n",
    "plt.title('Total Pengguna Bike Sharing Harian (Day) per Bulan (2012)', loc='center', fontsize=20)\n",
    "plt.xlabel('Bulan')\n",
    "plt.ylabel('Jumlah Pengguna')\n",
    "plt.xticks(rotation=45, fontsize=10)\n",
    "plt.yticks(fontsize=10)\n",
    "plt.show()"
   ]
  },
  {
   "cell_type": "markdown",
   "id": "2735efed",
   "metadata": {},
   "source": [
    "Penggunaan Bike Sharing berdasarkan Jam (Hour)"
   ]
  },
  {
   "cell_type": "code",
   "execution_count": 57,
   "id": "4c29a7fe",
   "metadata": {},
   "outputs": [
    {
     "name": "stderr",
     "output_type": "stream",
     "text": [
      "C:\\Users\\Arbud\\AppData\\Local\\Temp\\ipykernel_8328\\1770466463.py:3: FutureWarning: \n",
      "\n",
      "Passing `palette` without assigning `hue` is deprecated and will be removed in v0.14.0. Assign the `x` variable to `hue` and set `legend=False` for the same effect.\n",
      "\n",
      "  sns.barplot(data=jam, x='hr', y='cnt',order=hour_order, palette=colors_, errorbar=None)\n",
      "C:\\Users\\Arbud\\AppData\\Local\\Temp\\ipykernel_8328\\1770466463.py:3: UserWarning: \n",
      "The palette list has fewer values (23) than needed (24) and will cycle, which may produce an uninterpretable plot.\n",
      "  sns.barplot(data=jam, x='hr', y='cnt',order=hour_order, palette=colors_, errorbar=None)\n"
     ]
    },
    {
     "data": {
      "image/png": "[encoded data removed]",
      "text/plain": [
       "<Figure size 640x480 with 1 Axes>"
      ]
     },
     "metadata": {},
     "output_type": "display_data"
    }
   ],
   "source": [
    "colors_ = [\"#D3D3D3\", \"#D3D3D3\",\"#D3D3D3\",\"#D3D3D3\",\"#D3D3D3\",\"#D3D3D3\",\"#D3D3D3\",\"#D3D3D3\",\"#D3D3D3\",\"#D3D3D3\",\"#D3D3D3\",\"#D3D3D3\",\"#D3D3D3\",\"#D3D3D3\",\"#D3D3D3\",\"#D3D3D3\",\"#D3D3D3\",\"#72BCD4\", \"#D3D3D3\", \"#D3D3D3\", \"#D3D3D3\", \"#D3D3D3\", \"#D3D3D3\"]\n",
    "hour_order = jam.groupby('hr')['cnt'].sum().index\n",
    "sns.barplot(data=jam, x='hr', y='cnt',order=hour_order, palette=colors_, errorbar=None)\n",
    "plt.xticks(rotation=45)\n",
    "plt.title('Grafik Pengguna Bike Sharing per-jam (hour)')\n",
    "plt.xlabel('Jam Penggunaan')\n",
    "plt.ylabel('Total Pengguna')\n",
    "plt.show()"
   ]
  },
  {
   "cell_type": "code",
   "execution_count": 58,
   "id": "e7f15b9e",
   "metadata": {},
   "outputs": [
    {
     "data": {
      "image/png": "[encoded data removed]",
      "text/plain": [
       "<Figure size 1000x500 with 1 Axes>"
      ]
     },
     "metadata": {},
     "output_type": "display_data"
    }
   ],
   "source": [
    "plt.figure(figsize=(10, 5))\n",
    "plt.plot(pengguna_bulanan_2011_hour['dteday'], pengguna_bulanan_2011_hour['jumlah_pengguna'], marker='o', linewidth=2, color='#72BCD4')\n",
    "plt.title('Total Pengguna Bike Sharing Jam (Hour) per Bulan (2011)', loc='center', fontsize=20)\n",
    "plt.xlabel('Bulan')\n",
    "plt.ylabel('Jumlah Pengguna')\n",
    "plt.xticks(rotation=45 , fontsize=10)\n",
    "plt.yticks(fontsize=10)\n",
    "plt.show()"
   ]
  },
  {
   "cell_type": "code",
   "execution_count": 59,
   "id": "7a10ac40",
   "metadata": {},
   "outputs": [
    {
     "data": {
      "image/png": "[encoded data removed]",
      "text/plain": [
       "<Figure size 1000x500 with 1 Axes>"
      ]
     },
     "metadata": {},
     "output_type": "display_data"
    }
   ],
   "source": [
    "plt.figure(figsize=(10, 5))\n",
    "plt.plot(pengguna_bulanan_2012_hour['dteday'], pengguna_bulanan_2012_hour['jumlah_pengguna'], marker='o', linewidth=2, color='#72BCD4')\n",
    "plt.title('Total Pengguna Bike Sharing Jam (Hour) per Bulan (2012)', loc='center', fontsize=20)\n",
    "plt.xlabel('Bulan')\n",
    "plt.ylabel('Jumlah Pengguna')\n",
    "plt.xticks(rotation=45 , fontsize=10)\n",
    "plt.yticks(fontsize=10)\n",
    "plt.show()"
   ]
  },
  {
   "cell_type": "markdown",
   "id": "6f89e5cb",
   "metadata": {},
   "source": [
    "# Conclusion"
   ]
  },
  {
   "cell_type": "markdown",
   "id": "2e2a33cd",
   "metadata": {},
   "source": [
    "### Conclusion Pertanyaan 01 : Bagaimana Penggunaan Bike Sharing Berdasarkan Musim (Season) pada Penggunaan per-hari (Day) dan penggunaan per-jam (Hour)?"
   ]
  },
  {
   "cell_type": "markdown",
   "id": "bbc5d747",
   "metadata": {},
   "source": [
    "Penggunaan Bike Sharing Berdasarkan Musim (Season) pada Penggunaan per-hari (day) dan penggunaan per-jam (hour)\\\n",
    "yang telah ditampilkan pada visualisasi menunjukkan bahwa penggunaan paling banyak terjadi pada musim Fall kemudian\\\n",
    "penggunaan paling rendah terjadi pada musim spring, untuk penggunaannya tiap tahun mengalami kenaikan dimana dari tahun\\\n",
    "2011 ke tahun 2012 selalu mengalami peningkatan pengguna tiap musimnya."
   ]
  },
  {
   "cell_type": "markdown",
   "id": "5d84aabf",
   "metadata": {},
   "source": [
    "### Conclusion Pertanyaan 02 : Bagaimana Penggunaan Bike Sharing Berdasarkan Cuaca (Weathersit) pada Penggunaan per-hari (Day) dan per-jam (Hour)?"
   ]
  },
  {
   "cell_type": "markdown",
   "id": "8a5ed03d",
   "metadata": {},
   "source": [
    "Penggunaan Bike Sharing Berdasarkan Cuaca (Weathersit) pada penggunaan per-hari yang telah ditampilkan pada visualisasi\\\n",
    "menunjukkan bahwa penggunaan paling banyak terjadi saat cuaca Clear (cerah), dan penggunaan paling rendah ditunjukkan\\\n",
    "apabila cuaca dalam keadaan light rain, untuk penggunaan per-harinya tidak ditemukan adanya data pengguna yang melakukan\\\n",
    "bike sharing disaat cuaca heavy rain, dan juga tiap tahunnya penggunaan selalu meningkat disaat cuaca clear & mist,kecuali\\\n",
    "pada saat light rain penggunaan pada tahun 2011 lebih banyak dibanding penggunaan pada tahun 2012,itu menandakan bahwa\\\n",
    "terjadi penurunan pengguna bike sharing dari tahun 2011 ke tahun 2012 pada saat cuaca light rain, dan tidak ada yang\\\n",
    "melakukan bike sharing disaat cuaca sedang heavy rain.\\\n",
    "\\\n",
    "\\\n",
    "\\\n",
    "Sedangkan untuk penggunaan per-jam yang telah ditampilkan pada visualisasi menunjukkan bahwa pengguna bike sharing paling banyak\\\n",
    "terjadi saat cuaca Clear(cerah), dan penggunaan paling sedikit disaat cuaca Heavy Rain, untuk penggunaan bike sharing tiap tahun\\\n",
    "selalu mengalami kenaikan penggunaan.\\\n",
    "\\\n",
    "\\\n",
    "dari kedua data dapat ditemukan perbedaannya bahwa pengguna harian tidak menggunakan bike sharing apabila cuaca heavy rain\\\n",
    "sedangkan untuk pengguna per-jam ditemukan adanya pengguna bike sharing pada cuaca heavy rain. dan tiap tahunnya selalu mengalami\\\n",
    "kenaikan jumlah pengguna kecuali pada pengguna per-hari pada saat cuaca light rain terjadi penurunan jumlah pengguna."
   ]
  },
  {
   "cell_type": "markdown",
   "id": "fc4a5303",
   "metadata": {},
   "source": [
    "### Conclusion Pertanyaan 03 : Bagaimana Segmentasi Penggunaan Bike Sharing Berdasarkan status pengguna (Casual dan Registered) pada Penggunaan per-hari (Day) dan per-jam (Hour)?"
   ]
  },
  {
   "cell_type": "markdown",
   "id": "f5121ef9",
   "metadata": {},
   "source": [
    "Jenis Pengguna Bike Sharing berdasarkan status penggunanya terbagi menjadi dua yaitu casual atau pengguna biasa yang tidak\\\n",
    "memiliki keanggotaan (member) dan pengguna yang terdaftar (registered).\\\n",
    "\\\n",
    "Berdasarkan hasil Visualisasi yang telah dilakukan menunjukkan bahwa pengguna bike sharing mengalami kenaikan dari tahun 2011\\\n",
    "ke tahun 2012.\\\n",
    "\\\n",
    "Pengguna bike sharing lebih banyak digunakan oleh mereka yang sudah terdaftar (registered) dibandingkan pengguna casual.\\\n",
    "untuk data pengguna per-hari dan per-jam nya menampilkan hasil yang sama."
   ]
  },
  {
   "cell_type": "markdown",
   "id": "51699eb6",
   "metadata": {},
   "source": [
    "### Conclusion Pertanyaan 04 : Bagaimana Tren Penggunaan Bike Sharing Berdasarkan Bulan dan Hari Apa Saja Untuk Penggunaan Day dan Pada Jam Berapa Saja Penggunaan Paling Banyak pada penggunaan per-jam (Hour)?"
   ]
  },
  {
   "cell_type": "markdown",
   "id": "ef2e37a7",
   "metadata": {},
   "source": [
    "Tren penggunaan Bike Sharing Berdasarkan Bulan pada penggunaan per-hari dan per-jam berdasarkan hasil dari visualisasi yang\\\n",
    "telah dilakukan pada tahun 2011 grafik penggunaan dari bulan januari hingga juni terus mengalami kenaikan dan titik tertinggi\\\n",
    "terjadi pada bulan juni, sedangkan dari bulan juli hingga desember grafik pengguna mengalami penurunan.\\\n",
    "\\\n",
    "Sedangkan untuk tahun 2012 grafik penggunaan dari bulan januari hingga bulan september terus mengalami kenaikan jumlah pengguna\\\n",
    "sedangkan pada bulan oktober hingga desember jumlah pengguna mengalami penurunan.\\\n",
    "\\\n",
    "Untuk Pengguna per-hari (day) dapat diketahui bahwa pengguna bike sharing paling banyak dilakukan pada hari Jum'at sedangkan\\\n",
    "penggunaan paling sedikit terjadi pada hari minggu\\\n",
    "\\\n",
    "Untuk Penggunaan per-jam (hour) dapat diketahui bahwa pengguna bike sharing paling banyak dilakukan pada jam 17.00 sedangkan\\\n",
    "penggunaan paling sedikit terjadi pada jam 04.00"
   ]
  }
 ],
 "metadata": {
  "kernelspec": {
   "display_name": "Python 3 (ipykernel)",
   "language": "python",
   "name": "python3"
  },
  "language_info": {
   "codemirror_mode": {
    "name": "ipython",
    "version": 3
   },
   "file_extension": ".py",
   "mimetype": "text/x-python",
   "name": "python",
   "nbconvert_exporter": "python",
   "pygments_lexer": "ipython3",
   "version": "3.9.13"
  }
 },
 "nbformat": 4,
 "nbformat_minor": 5
}
